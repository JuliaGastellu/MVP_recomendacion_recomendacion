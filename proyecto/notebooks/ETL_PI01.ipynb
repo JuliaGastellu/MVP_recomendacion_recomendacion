{
 "cells": [
  {
   "cell_type": "code",
   "execution_count": 1,
   "metadata": {},
   "outputs": [],
   "source": [
    "import numpy as np\n",
    "import pandas as pd"
   ]
  },
  {
   "cell_type": "markdown",
   "metadata": {},
   "source": [
    "Inspecciono movies_dataset\n"
   ]
  },
  {
   "cell_type": "code",
   "execution_count": 2,
   "metadata": {},
   "outputs": [
    {
     "name": "stderr",
     "output_type": "stream",
     "text": [
      "C:\\Users\\jugas\\AppData\\Local\\Temp\\ipykernel_5252\\1908968030.py:3: DtypeWarning: Columns (10) have mixed types. Specify dtype option on import or set low_memory=False.\n",
      "  data1 = pd.read_csv(\"C:/Users/jugas/Proyecto/proyecto/data/movies_dataset.csv\")\n"
     ]
    },
    {
     "data": {
      "text/plain": [
       "Index(['adult', 'belongs_to_collection', 'budget', 'genres', 'homepage', 'id',\n",
       "       'imdb_id', 'original_language', 'original_title', 'overview',\n",
       "       'popularity', 'poster_path', 'production_companies',\n",
       "       'production_countries', 'release_date', 'revenue', 'runtime',\n",
       "       'spoken_languages', 'status', 'tagline', 'title', 'video',\n",
       "       'vote_average', 'vote_count'],\n",
       "      dtype='object')"
      ]
     },
     "execution_count": 2,
     "metadata": {},
     "output_type": "execute_result"
    }
   ],
   "source": [
    "#Cargo el csv\n",
    "\n",
    "data1 = pd.read_csv(\"C:/Users/jugas/Proyecto/proyecto/data/movies_dataset.csv\")\n",
    "data1.columns"
   ]
  },
  {
   "cell_type": "code",
   "execution_count": 3,
   "metadata": {},
   "outputs": [
    {
     "data": {
      "text/html": [
       "<div>\n",
       "<style scoped>\n",
       "    .dataframe tbody tr th:only-of-type {\n",
       "        vertical-align: middle;\n",
       "    }\n",
       "\n",
       "    .dataframe tbody tr th {\n",
       "        vertical-align: top;\n",
       "    }\n",
       "\n",
       "    .dataframe thead th {\n",
       "        text-align: right;\n",
       "    }\n",
       "</style>\n",
       "<table border=\"1\" class=\"dataframe\">\n",
       "  <thead>\n",
       "    <tr style=\"text-align: right;\">\n",
       "      <th></th>\n",
       "      <th>adult</th>\n",
       "      <th>belongs_to_collection</th>\n",
       "      <th>budget</th>\n",
       "      <th>genres</th>\n",
       "      <th>homepage</th>\n",
       "      <th>id</th>\n",
       "      <th>imdb_id</th>\n",
       "      <th>original_language</th>\n",
       "      <th>original_title</th>\n",
       "      <th>overview</th>\n",
       "      <th>...</th>\n",
       "      <th>release_date</th>\n",
       "      <th>revenue</th>\n",
       "      <th>runtime</th>\n",
       "      <th>spoken_languages</th>\n",
       "      <th>status</th>\n",
       "      <th>tagline</th>\n",
       "      <th>title</th>\n",
       "      <th>video</th>\n",
       "      <th>vote_average</th>\n",
       "      <th>vote_count</th>\n",
       "    </tr>\n",
       "  </thead>\n",
       "  <tbody>\n",
       "    <tr>\n",
       "      <th>0</th>\n",
       "      <td>False</td>\n",
       "      <td>{'id': 10194, 'name': 'Toy Story Collection', ...</td>\n",
       "      <td>30000000</td>\n",
       "      <td>[{'id': 16, 'name': 'Animation'}, {'id': 35, '...</td>\n",
       "      <td>http://toystory.disney.com/toy-story</td>\n",
       "      <td>862</td>\n",
       "      <td>tt0114709</td>\n",
       "      <td>en</td>\n",
       "      <td>Toy Story</td>\n",
       "      <td>Led by Woody, Andy's toys live happily in his ...</td>\n",
       "      <td>...</td>\n",
       "      <td>1995-10-30</td>\n",
       "      <td>373554033.0</td>\n",
       "      <td>81.0</td>\n",
       "      <td>[{'iso_639_1': 'en', 'name': 'English'}]</td>\n",
       "      <td>Released</td>\n",
       "      <td>NaN</td>\n",
       "      <td>Toy Story</td>\n",
       "      <td>False</td>\n",
       "      <td>7.7</td>\n",
       "      <td>5415.0</td>\n",
       "    </tr>\n",
       "    <tr>\n",
       "      <th>1</th>\n",
       "      <td>False</td>\n",
       "      <td>NaN</td>\n",
       "      <td>65000000</td>\n",
       "      <td>[{'id': 12, 'name': 'Adventure'}, {'id': 14, '...</td>\n",
       "      <td>NaN</td>\n",
       "      <td>8844</td>\n",
       "      <td>tt0113497</td>\n",
       "      <td>en</td>\n",
       "      <td>Jumanji</td>\n",
       "      <td>When siblings Judy and Peter discover an encha...</td>\n",
       "      <td>...</td>\n",
       "      <td>1995-12-15</td>\n",
       "      <td>262797249.0</td>\n",
       "      <td>104.0</td>\n",
       "      <td>[{'iso_639_1': 'en', 'name': 'English'}, {'iso...</td>\n",
       "      <td>Released</td>\n",
       "      <td>Roll the dice and unleash the excitement!</td>\n",
       "      <td>Jumanji</td>\n",
       "      <td>False</td>\n",
       "      <td>6.9</td>\n",
       "      <td>2413.0</td>\n",
       "    </tr>\n",
       "    <tr>\n",
       "      <th>2</th>\n",
       "      <td>False</td>\n",
       "      <td>{'id': 119050, 'name': 'Grumpy Old Men Collect...</td>\n",
       "      <td>0</td>\n",
       "      <td>[{'id': 10749, 'name': 'Romance'}, {'id': 35, ...</td>\n",
       "      <td>NaN</td>\n",
       "      <td>15602</td>\n",
       "      <td>tt0113228</td>\n",
       "      <td>en</td>\n",
       "      <td>Grumpier Old Men</td>\n",
       "      <td>A family wedding reignites the ancient feud be...</td>\n",
       "      <td>...</td>\n",
       "      <td>1995-12-22</td>\n",
       "      <td>0.0</td>\n",
       "      <td>101.0</td>\n",
       "      <td>[{'iso_639_1': 'en', 'name': 'English'}]</td>\n",
       "      <td>Released</td>\n",
       "      <td>Still Yelling. Still Fighting. Still Ready for...</td>\n",
       "      <td>Grumpier Old Men</td>\n",
       "      <td>False</td>\n",
       "      <td>6.5</td>\n",
       "      <td>92.0</td>\n",
       "    </tr>\n",
       "    <tr>\n",
       "      <th>3</th>\n",
       "      <td>False</td>\n",
       "      <td>NaN</td>\n",
       "      <td>16000000</td>\n",
       "      <td>[{'id': 35, 'name': 'Comedy'}, {'id': 18, 'nam...</td>\n",
       "      <td>NaN</td>\n",
       "      <td>31357</td>\n",
       "      <td>tt0114885</td>\n",
       "      <td>en</td>\n",
       "      <td>Waiting to Exhale</td>\n",
       "      <td>Cheated on, mistreated and stepped on, the wom...</td>\n",
       "      <td>...</td>\n",
       "      <td>1995-12-22</td>\n",
       "      <td>81452156.0</td>\n",
       "      <td>127.0</td>\n",
       "      <td>[{'iso_639_1': 'en', 'name': 'English'}]</td>\n",
       "      <td>Released</td>\n",
       "      <td>Friends are the people who let you be yourself...</td>\n",
       "      <td>Waiting to Exhale</td>\n",
       "      <td>False</td>\n",
       "      <td>6.1</td>\n",
       "      <td>34.0</td>\n",
       "    </tr>\n",
       "    <tr>\n",
       "      <th>4</th>\n",
       "      <td>False</td>\n",
       "      <td>{'id': 96871, 'name': 'Father of the Bride Col...</td>\n",
       "      <td>0</td>\n",
       "      <td>[{'id': 35, 'name': 'Comedy'}]</td>\n",
       "      <td>NaN</td>\n",
       "      <td>11862</td>\n",
       "      <td>tt0113041</td>\n",
       "      <td>en</td>\n",
       "      <td>Father of the Bride Part II</td>\n",
       "      <td>Just when George Banks has recovered from his ...</td>\n",
       "      <td>...</td>\n",
       "      <td>1995-02-10</td>\n",
       "      <td>76578911.0</td>\n",
       "      <td>106.0</td>\n",
       "      <td>[{'iso_639_1': 'en', 'name': 'English'}]</td>\n",
       "      <td>Released</td>\n",
       "      <td>Just When His World Is Back To Normal... He's ...</td>\n",
       "      <td>Father of the Bride Part II</td>\n",
       "      <td>False</td>\n",
       "      <td>5.7</td>\n",
       "      <td>173.0</td>\n",
       "    </tr>\n",
       "  </tbody>\n",
       "</table>\n",
       "<p>5 rows × 24 columns</p>\n",
       "</div>"
      ],
      "text/plain": [
       "   adult                              belongs_to_collection    budget  \\\n",
       "0  False  {'id': 10194, 'name': 'Toy Story Collection', ...  30000000   \n",
       "1  False                                                NaN  65000000   \n",
       "2  False  {'id': 119050, 'name': 'Grumpy Old Men Collect...         0   \n",
       "3  False                                                NaN  16000000   \n",
       "4  False  {'id': 96871, 'name': 'Father of the Bride Col...         0   \n",
       "\n",
       "                                              genres  \\\n",
       "0  [{'id': 16, 'name': 'Animation'}, {'id': 35, '...   \n",
       "1  [{'id': 12, 'name': 'Adventure'}, {'id': 14, '...   \n",
       "2  [{'id': 10749, 'name': 'Romance'}, {'id': 35, ...   \n",
       "3  [{'id': 35, 'name': 'Comedy'}, {'id': 18, 'nam...   \n",
       "4                     [{'id': 35, 'name': 'Comedy'}]   \n",
       "\n",
       "                               homepage     id    imdb_id original_language  \\\n",
       "0  http://toystory.disney.com/toy-story    862  tt0114709                en   \n",
       "1                                   NaN   8844  tt0113497                en   \n",
       "2                                   NaN  15602  tt0113228                en   \n",
       "3                                   NaN  31357  tt0114885                en   \n",
       "4                                   NaN  11862  tt0113041                en   \n",
       "\n",
       "                original_title  \\\n",
       "0                    Toy Story   \n",
       "1                      Jumanji   \n",
       "2             Grumpier Old Men   \n",
       "3            Waiting to Exhale   \n",
       "4  Father of the Bride Part II   \n",
       "\n",
       "                                            overview  ... release_date  \\\n",
       "0  Led by Woody, Andy's toys live happily in his ...  ...   1995-10-30   \n",
       "1  When siblings Judy and Peter discover an encha...  ...   1995-12-15   \n",
       "2  A family wedding reignites the ancient feud be...  ...   1995-12-22   \n",
       "3  Cheated on, mistreated and stepped on, the wom...  ...   1995-12-22   \n",
       "4  Just when George Banks has recovered from his ...  ...   1995-02-10   \n",
       "\n",
       "       revenue runtime                                   spoken_languages  \\\n",
       "0  373554033.0    81.0           [{'iso_639_1': 'en', 'name': 'English'}]   \n",
       "1  262797249.0   104.0  [{'iso_639_1': 'en', 'name': 'English'}, {'iso...   \n",
       "2          0.0   101.0           [{'iso_639_1': 'en', 'name': 'English'}]   \n",
       "3   81452156.0   127.0           [{'iso_639_1': 'en', 'name': 'English'}]   \n",
       "4   76578911.0   106.0           [{'iso_639_1': 'en', 'name': 'English'}]   \n",
       "\n",
       "     status                                            tagline  \\\n",
       "0  Released                                                NaN   \n",
       "1  Released          Roll the dice and unleash the excitement!   \n",
       "2  Released  Still Yelling. Still Fighting. Still Ready for...   \n",
       "3  Released  Friends are the people who let you be yourself...   \n",
       "4  Released  Just When His World Is Back To Normal... He's ...   \n",
       "\n",
       "                         title  video vote_average vote_count  \n",
       "0                    Toy Story  False          7.7     5415.0  \n",
       "1                      Jumanji  False          6.9     2413.0  \n",
       "2             Grumpier Old Men  False          6.5       92.0  \n",
       "3            Waiting to Exhale  False          6.1       34.0  \n",
       "4  Father of the Bride Part II  False          5.7      173.0  \n",
       "\n",
       "[5 rows x 24 columns]"
      ]
     },
     "execution_count": 3,
     "metadata": {},
     "output_type": "execute_result"
    }
   ],
   "source": [
    "data1.head()"
   ]
  },
  {
   "cell_type": "markdown",
   "metadata": {},
   "source": [
    "Comienzo con el desanidado de las columnas que contienen diccionarios o listas de diccionarios, dejando solo los valores que me parecen relevantes, y sobreescribiedo el mismo dataframe con el resultado\n"
   ]
  },
  {
   "cell_type": "code",
   "execution_count": 4,
   "metadata": {},
   "outputs": [
    {
     "data": {
      "text/plain": [
       "0                  Toy Story Collection\n",
       "1                        not collection\n",
       "2             Grumpy Old Men Collection\n",
       "3                        not collection\n",
       "4        Father of the Bride Collection\n",
       "                      ...              \n",
       "45461                    not collection\n",
       "45462                    not collection\n",
       "45463                    not collection\n",
       "45464                    not collection\n",
       "45465                    not collection\n",
       "Name: belongs_to_collection, Length: 45466, dtype: object"
      ]
     },
     "execution_count": 4,
     "metadata": {},
     "output_type": "execute_result"
    }
   ],
   "source": [
    "def pasar_a_dict(dic):\n",
    "    try:\n",
    "        r = eval(dic)\n",
    "        r = r['name']\n",
    "    except:\n",
    "        r = 'not collection'\n",
    "    return r\n",
    "\n",
    "data1['belongs_to_collection']=data1['belongs_to_collection'].apply(pasar_a_dict)\n",
    "#df['belongs_to_collection'] = [i['name'] for i in df['belongs_to_collection']]\n",
    "data1['belongs_to_collection']"
   ]
  },
  {
   "cell_type": "code",
   "execution_count": 5,
   "metadata": {},
   "outputs": [
    {
     "name": "stdout",
     "output_type": "stream",
     "text": [
      "0        30000000\n",
      "1        65000000\n",
      "2               0\n",
      "3        16000000\n",
      "4               0\n",
      "           ...   \n",
      "45461           0\n",
      "45462           0\n",
      "45463           0\n",
      "45464           0\n",
      "45465           0\n",
      "Name: budget, Length: 45466, dtype: int64\n"
     ]
    }
   ],
   "source": [
    "#df['budget'] = pd.to_numeric(df['budget'])\n",
    "def pasar_num(x):\n",
    "    try:\n",
    "        r = pd.to_numeric(x)\n",
    "    except:\n",
    "        r = 0\n",
    "    return r\n",
    "data1['budget']= data1['budget'].apply(pasar_num)\n",
    "print(data1['budget'])"
   ]
  },
  {
   "cell_type": "code",
   "execution_count": 6,
   "metadata": {},
   "outputs": [
    {
     "data": {
      "text/plain": [
       "0         [Animation, Comedy, Family]\n",
       "1        [Adventure, Fantasy, Family]\n",
       "2                   [Romance, Comedy]\n",
       "3            [Comedy, Drama, Romance]\n",
       "4                            [Comedy]\n",
       "                     ...             \n",
       "45461                 [Drama, Family]\n",
       "45462                         [Drama]\n",
       "45463       [Action, Drama, Thriller]\n",
       "45464                              []\n",
       "45465                              []\n",
       "Name: genres, Length: 45466, dtype: object"
      ]
     },
     "execution_count": 6,
     "metadata": {},
     "output_type": "execute_result"
    }
   ],
   "source": [
    "def pasar_generos(x):\n",
    "   \n",
    "    try:\n",
    "        r = eval(x) #recibe x y lo transforma en un objeto de python, en este caso una lista de diccionaros\n",
    "        r = [i['name'] for i in r] #itera por cada elemento de la lista y se queda solo con la clave 'name'\n",
    "    except:\n",
    "        # cuando hay un error o un nulo, devuelve una lista vacia\n",
    "        r = []\n",
    "    return r\n",
    "    \n",
    "\n",
    "\n",
    "#Aplicando la funcion a la columna \"genres\"\n",
    "data1['genres'] = data1['genres'].apply(pasar_generos)\n",
    "data1['genres']"
   ]
  },
  {
   "cell_type": "code",
   "execution_count": 7,
   "metadata": {},
   "outputs": [
    {
     "name": "stderr",
     "output_type": "stream",
     "text": [
      "C:\\Users\\jugas\\AppData\\Local\\Temp\\ipykernel_5252\\343810314.py:8: FutureWarning: A value is trying to be set on a copy of a DataFrame or Series through chained assignment using an inplace method.\n",
      "The behavior will change in pandas 3.0. This inplace method will never work because the intermediate object on which we are setting values always behaves as a copy.\n",
      "\n",
      "For example, when doing 'df[col].method(value, inplace=True)', try using 'df.method({col: value}, inplace=True)' or df[col] = df[col].method(value) instead, to perform the operation inplace on the original object.\n",
      "\n",
      "\n",
      "  data1['popularity'].fillna(0, inplace=True)\n"
     ]
    },
    {
     "data": {
      "text/plain": [
       "0        21.946943\n",
       "1        17.015539\n",
       "2        11.712900\n",
       "3         3.859495\n",
       "4         8.387519\n",
       "           ...    \n",
       "45461     0.072051\n",
       "45462     0.178241\n",
       "45463     0.903007\n",
       "45464     0.003503\n",
       "45465     0.163015\n",
       "Name: popularity, Length: 45466, dtype: float64"
      ]
     },
     "execution_count": 7,
     "metadata": {},
     "output_type": "execute_result"
    }
   ],
   "source": [
    "def pasar(x):\n",
    "    try:\n",
    "        r = pd.to_numeric(x)\n",
    "    except:\n",
    "        r= 0.\n",
    "    return r\n",
    "\n",
    "data1['popularity'].fillna(0, inplace=True)\n",
    "\n",
    "data1['popularity'] = data1['popularity'].apply(pasar)\n",
    "data1['popularity']"
   ]
  },
  {
   "cell_type": "code",
   "execution_count": 8,
   "metadata": {},
   "outputs": [
    {
     "data": {
      "text/plain": [
       "0        [United States of America]\n",
       "1        [United States of America]\n",
       "2        [United States of America]\n",
       "3        [United States of America]\n",
       "4        [United States of America]\n",
       "                    ...            \n",
       "45461                        [Iran]\n",
       "45462                 [Philippines]\n",
       "45463    [United States of America]\n",
       "45464                      [Russia]\n",
       "45465              [United Kingdom]\n",
       "Name: production_countries, Length: 45466, dtype: object"
      ]
     },
     "execution_count": 8,
     "metadata": {},
     "output_type": "execute_result"
    }
   ],
   "source": [
    "data1['production_countries'] = data1['production_countries'].apply(pasar_generos)\n",
    "data1['production_countries']"
   ]
  },
  {
   "cell_type": "code",
   "execution_count": 9,
   "metadata": {},
   "outputs": [
    {
     "data": {
      "text/plain": [
       "0                                [Pixar Animation Studios]\n",
       "1        [TriStar Pictures, Teitler Film, Interscope Co...\n",
       "2                           [Warner Bros., Lancaster Gate]\n",
       "3                 [Twentieth Century Fox Film Corporation]\n",
       "4             [Sandollar Productions, Touchstone Pictures]\n",
       "                               ...                        \n",
       "45461                                                   []\n",
       "45462                                        [Sine Olivia]\n",
       "45463                            [American World Pictures]\n",
       "45464                                          [Yermoliev]\n",
       "45465                                                   []\n",
       "Name: production_companies, Length: 45466, dtype: object"
      ]
     },
     "execution_count": 9,
     "metadata": {},
     "output_type": "execute_result"
    }
   ],
   "source": [
    "data1['production_companies'] = data1['production_companies'].apply(pasar_generos)\n",
    "data1['production_companies']"
   ]
  },
  {
   "cell_type": "code",
   "execution_count": 10,
   "metadata": {},
   "outputs": [
    {
     "data": {
      "text/plain": [
       "0                  [English]\n",
       "1        [English, Français]\n",
       "2                  [English]\n",
       "3                  [English]\n",
       "4                  [English]\n",
       "                ...         \n",
       "45461                [فارسی]\n",
       "45462                     []\n",
       "45463              [English]\n",
       "45464                     []\n",
       "45465              [English]\n",
       "Name: spoken_languages, Length: 45466, dtype: object"
      ]
     },
     "execution_count": 10,
     "metadata": {},
     "output_type": "execute_result"
    }
   ],
   "source": [
    "data1['spoken_languages'] = data1['spoken_languages'].apply(pasar_generos)\n",
    "data1['spoken_languages']"
   ]
  },
  {
   "cell_type": "code",
   "execution_count": 11,
   "metadata": {},
   "outputs": [],
   "source": [
    "# Convertir la columna 'release_date' a formato datetime\n",
    "data1['release_date'] = pd.to_datetime(data1['release_date'], errors='coerce')\n",
    "\n",
    "# Formatear la fecha de salida como AAAA-MM-DD\n",
    "data1['release_date'] = data1['release_date'].dt.strftime('%Y-%m-%d')\n",
    "\n",
    "# Extraer el año y crear la columna 'release_year'\n",
    "data1['release_year'] = pd.to_datetime(data1['release_date']).dt.year"
   ]
  },
  {
   "cell_type": "code",
   "execution_count": 12,
   "metadata": {},
   "outputs": [],
   "source": [
    "# Convierto los str a numeric, y los errores a NaN\n",
    "data1['revenue'] = pd.to_numeric(data1['revenue'], errors='coerce')\n",
    "data1['budget'] = pd.to_numeric(data1['budget'], errors='coerce')\n",
    "\n",
    "# Calculo el retorno de la inversion\n",
    "data1['return'] = data1['revenue'] / data1['budget']\n",
    "\n",
    "# Relleno los valores NaN solicitados con 0\n",
    "data1['return'] = data1['return'].fillna(0)"
   ]
  },
  {
   "cell_type": "code",
   "execution_count": 13,
   "metadata": {},
   "outputs": [
    {
     "name": "stdout",
     "output_type": "stream",
     "text": [
      "Index(['belongs_to_collection', 'budget', 'genres', 'id', 'original_language',\n",
      "       'overview', 'popularity', 'production_companies',\n",
      "       'production_countries', 'release_date', 'revenue', 'runtime',\n",
      "       'spoken_languages', 'status', 'tagline', 'title', 'vote_average',\n",
      "       'vote_count', 'release_year', 'return'],\n",
      "      dtype='object')\n"
     ]
    }
   ],
   "source": [
    "columnas_a_eliminar = ['video', 'imdb_id', 'adult', 'original_title', 'poster_path', 'homepage']\n",
    "\n",
    "# Eliminar las columnas del DataFrame\n",
    "data1 = data1.drop(columnas_a_eliminar, axis=1)\n",
    "\n",
    "print(data1.columns)"
   ]
  },
  {
   "cell_type": "code",
   "execution_count": 14,
   "metadata": {},
   "outputs": [
    {
     "data": {
      "text/html": [
       "<div>\n",
       "<style scoped>\n",
       "    .dataframe tbody tr th:only-of-type {\n",
       "        vertical-align: middle;\n",
       "    }\n",
       "\n",
       "    .dataframe tbody tr th {\n",
       "        vertical-align: top;\n",
       "    }\n",
       "\n",
       "    .dataframe thead th {\n",
       "        text-align: right;\n",
       "    }\n",
       "</style>\n",
       "<table border=\"1\" class=\"dataframe\">\n",
       "  <thead>\n",
       "    <tr style=\"text-align: right;\">\n",
       "      <th></th>\n",
       "      <th>belongs_to_collection</th>\n",
       "      <th>budget</th>\n",
       "      <th>genres</th>\n",
       "      <th>id</th>\n",
       "      <th>original_language</th>\n",
       "      <th>overview</th>\n",
       "      <th>popularity</th>\n",
       "      <th>production_companies</th>\n",
       "      <th>production_countries</th>\n",
       "      <th>release_date</th>\n",
       "      <th>revenue</th>\n",
       "      <th>runtime</th>\n",
       "      <th>spoken_languages</th>\n",
       "      <th>status</th>\n",
       "      <th>tagline</th>\n",
       "      <th>title</th>\n",
       "      <th>vote_average</th>\n",
       "      <th>vote_count</th>\n",
       "      <th>release_year</th>\n",
       "      <th>return</th>\n",
       "    </tr>\n",
       "  </thead>\n",
       "  <tbody>\n",
       "    <tr>\n",
       "      <th>0</th>\n",
       "      <td>Toy Story Collection</td>\n",
       "      <td>30000000</td>\n",
       "      <td>[Animation, Comedy, Family]</td>\n",
       "      <td>862</td>\n",
       "      <td>en</td>\n",
       "      <td>Led by Woody, Andy's toys live happily in his ...</td>\n",
       "      <td>21.946943</td>\n",
       "      <td>[Pixar Animation Studios]</td>\n",
       "      <td>[United States of America]</td>\n",
       "      <td>1995-10-30</td>\n",
       "      <td>373554033.0</td>\n",
       "      <td>81.0</td>\n",
       "      <td>[English]</td>\n",
       "      <td>Released</td>\n",
       "      <td>NaN</td>\n",
       "      <td>Toy Story</td>\n",
       "      <td>7.7</td>\n",
       "      <td>5415.0</td>\n",
       "      <td>1995.0</td>\n",
       "      <td>12.451801</td>\n",
       "    </tr>\n",
       "    <tr>\n",
       "      <th>1</th>\n",
       "      <td>not collection</td>\n",
       "      <td>65000000</td>\n",
       "      <td>[Adventure, Fantasy, Family]</td>\n",
       "      <td>8844</td>\n",
       "      <td>en</td>\n",
       "      <td>When siblings Judy and Peter discover an encha...</td>\n",
       "      <td>17.015539</td>\n",
       "      <td>[TriStar Pictures, Teitler Film, Interscope Co...</td>\n",
       "      <td>[United States of America]</td>\n",
       "      <td>1995-12-15</td>\n",
       "      <td>262797249.0</td>\n",
       "      <td>104.0</td>\n",
       "      <td>[English, Français]</td>\n",
       "      <td>Released</td>\n",
       "      <td>Roll the dice and unleash the excitement!</td>\n",
       "      <td>Jumanji</td>\n",
       "      <td>6.9</td>\n",
       "      <td>2413.0</td>\n",
       "      <td>1995.0</td>\n",
       "      <td>4.043035</td>\n",
       "    </tr>\n",
       "    <tr>\n",
       "      <th>2</th>\n",
       "      <td>Grumpy Old Men Collection</td>\n",
       "      <td>0</td>\n",
       "      <td>[Romance, Comedy]</td>\n",
       "      <td>15602</td>\n",
       "      <td>en</td>\n",
       "      <td>A family wedding reignites the ancient feud be...</td>\n",
       "      <td>11.712900</td>\n",
       "      <td>[Warner Bros., Lancaster Gate]</td>\n",
       "      <td>[United States of America]</td>\n",
       "      <td>1995-12-22</td>\n",
       "      <td>0.0</td>\n",
       "      <td>101.0</td>\n",
       "      <td>[English]</td>\n",
       "      <td>Released</td>\n",
       "      <td>Still Yelling. Still Fighting. Still Ready for...</td>\n",
       "      <td>Grumpier Old Men</td>\n",
       "      <td>6.5</td>\n",
       "      <td>92.0</td>\n",
       "      <td>1995.0</td>\n",
       "      <td>0.000000</td>\n",
       "    </tr>\n",
       "    <tr>\n",
       "      <th>3</th>\n",
       "      <td>not collection</td>\n",
       "      <td>16000000</td>\n",
       "      <td>[Comedy, Drama, Romance]</td>\n",
       "      <td>31357</td>\n",
       "      <td>en</td>\n",
       "      <td>Cheated on, mistreated and stepped on, the wom...</td>\n",
       "      <td>3.859495</td>\n",
       "      <td>[Twentieth Century Fox Film Corporation]</td>\n",
       "      <td>[United States of America]</td>\n",
       "      <td>1995-12-22</td>\n",
       "      <td>81452156.0</td>\n",
       "      <td>127.0</td>\n",
       "      <td>[English]</td>\n",
       "      <td>Released</td>\n",
       "      <td>Friends are the people who let you be yourself...</td>\n",
       "      <td>Waiting to Exhale</td>\n",
       "      <td>6.1</td>\n",
       "      <td>34.0</td>\n",
       "      <td>1995.0</td>\n",
       "      <td>5.090760</td>\n",
       "    </tr>\n",
       "    <tr>\n",
       "      <th>4</th>\n",
       "      <td>Father of the Bride Collection</td>\n",
       "      <td>0</td>\n",
       "      <td>[Comedy]</td>\n",
       "      <td>11862</td>\n",
       "      <td>en</td>\n",
       "      <td>Just when George Banks has recovered from his ...</td>\n",
       "      <td>8.387519</td>\n",
       "      <td>[Sandollar Productions, Touchstone Pictures]</td>\n",
       "      <td>[United States of America]</td>\n",
       "      <td>1995-02-10</td>\n",
       "      <td>76578911.0</td>\n",
       "      <td>106.0</td>\n",
       "      <td>[English]</td>\n",
       "      <td>Released</td>\n",
       "      <td>Just When His World Is Back To Normal... He's ...</td>\n",
       "      <td>Father of the Bride Part II</td>\n",
       "      <td>5.7</td>\n",
       "      <td>173.0</td>\n",
       "      <td>1995.0</td>\n",
       "      <td>inf</td>\n",
       "    </tr>\n",
       "  </tbody>\n",
       "</table>\n",
       "</div>"
      ],
      "text/plain": [
       "            belongs_to_collection    budget                        genres  \\\n",
       "0            Toy Story Collection  30000000   [Animation, Comedy, Family]   \n",
       "1                  not collection  65000000  [Adventure, Fantasy, Family]   \n",
       "2       Grumpy Old Men Collection         0             [Romance, Comedy]   \n",
       "3                  not collection  16000000      [Comedy, Drama, Romance]   \n",
       "4  Father of the Bride Collection         0                      [Comedy]   \n",
       "\n",
       "      id original_language                                           overview  \\\n",
       "0    862                en  Led by Woody, Andy's toys live happily in his ...   \n",
       "1   8844                en  When siblings Judy and Peter discover an encha...   \n",
       "2  15602                en  A family wedding reignites the ancient feud be...   \n",
       "3  31357                en  Cheated on, mistreated and stepped on, the wom...   \n",
       "4  11862                en  Just when George Banks has recovered from his ...   \n",
       "\n",
       "   popularity                               production_companies  \\\n",
       "0   21.946943                          [Pixar Animation Studios]   \n",
       "1   17.015539  [TriStar Pictures, Teitler Film, Interscope Co...   \n",
       "2   11.712900                     [Warner Bros., Lancaster Gate]   \n",
       "3    3.859495           [Twentieth Century Fox Film Corporation]   \n",
       "4    8.387519       [Sandollar Productions, Touchstone Pictures]   \n",
       "\n",
       "         production_countries release_date      revenue  runtime  \\\n",
       "0  [United States of America]   1995-10-30  373554033.0     81.0   \n",
       "1  [United States of America]   1995-12-15  262797249.0    104.0   \n",
       "2  [United States of America]   1995-12-22          0.0    101.0   \n",
       "3  [United States of America]   1995-12-22   81452156.0    127.0   \n",
       "4  [United States of America]   1995-02-10   76578911.0    106.0   \n",
       "\n",
       "      spoken_languages    status  \\\n",
       "0            [English]  Released   \n",
       "1  [English, Français]  Released   \n",
       "2            [English]  Released   \n",
       "3            [English]  Released   \n",
       "4            [English]  Released   \n",
       "\n",
       "                                             tagline  \\\n",
       "0                                                NaN   \n",
       "1          Roll the dice and unleash the excitement!   \n",
       "2  Still Yelling. Still Fighting. Still Ready for...   \n",
       "3  Friends are the people who let you be yourself...   \n",
       "4  Just When His World Is Back To Normal... He's ...   \n",
       "\n",
       "                         title  vote_average  vote_count  release_year  \\\n",
       "0                    Toy Story           7.7      5415.0        1995.0   \n",
       "1                      Jumanji           6.9      2413.0        1995.0   \n",
       "2             Grumpier Old Men           6.5        92.0        1995.0   \n",
       "3            Waiting to Exhale           6.1        34.0        1995.0   \n",
       "4  Father of the Bride Part II           5.7       173.0        1995.0   \n",
       "\n",
       "      return  \n",
       "0  12.451801  \n",
       "1   4.043035  \n",
       "2   0.000000  \n",
       "3   5.090760  \n",
       "4        inf  "
      ]
     },
     "execution_count": 14,
     "metadata": {},
     "output_type": "execute_result"
    }
   ],
   "source": [
    "data1.head()"
   ]
  },
  {
   "cell_type": "code",
   "execution_count": 15,
   "metadata": {},
   "outputs": [
    {
     "name": "stdout",
     "output_type": "stream",
     "text": [
      "30\n"
     ]
    }
   ],
   "source": [
    "#Verifico si hay ids duplicados\n",
    "print(data1.duplicated(subset='id').sum())"
   ]
  },
  {
   "cell_type": "code",
   "execution_count": 16,
   "metadata": {},
   "outputs": [],
   "source": [
    "#Elimino los duplicados\n",
    "data1 = data1.drop_duplicates(subset='id', keep='first')"
   ]
  },
  {
   "cell_type": "code",
   "execution_count": 17,
   "metadata": {},
   "outputs": [
    {
     "data": {
      "text/html": [
       "<div>\n",
       "<style scoped>\n",
       "    .dataframe tbody tr th:only-of-type {\n",
       "        vertical-align: middle;\n",
       "    }\n",
       "\n",
       "    .dataframe tbody tr th {\n",
       "        vertical-align: top;\n",
       "    }\n",
       "\n",
       "    .dataframe thead th {\n",
       "        text-align: right;\n",
       "    }\n",
       "</style>\n",
       "<table border=\"1\" class=\"dataframe\">\n",
       "  <thead>\n",
       "    <tr style=\"text-align: right;\">\n",
       "      <th></th>\n",
       "      <th>cast</th>\n",
       "      <th>crew</th>\n",
       "      <th>id</th>\n",
       "    </tr>\n",
       "  </thead>\n",
       "  <tbody>\n",
       "    <tr>\n",
       "      <th>0</th>\n",
       "      <td>[{'cast_id': 14, 'character': 'Woody (voice)',...</td>\n",
       "      <td>[{'credit_id': '52fe4284c3a36847f8024f49', 'de...</td>\n",
       "      <td>862</td>\n",
       "    </tr>\n",
       "    <tr>\n",
       "      <th>1</th>\n",
       "      <td>[{'cast_id': 1, 'character': 'Alan Parrish', '...</td>\n",
       "      <td>[{'credit_id': '52fe44bfc3a36847f80a7cd1', 'de...</td>\n",
       "      <td>8844</td>\n",
       "    </tr>\n",
       "    <tr>\n",
       "      <th>2</th>\n",
       "      <td>[{'cast_id': 2, 'character': 'Max Goldman', 'c...</td>\n",
       "      <td>[{'credit_id': '52fe466a9251416c75077a89', 'de...</td>\n",
       "      <td>15602</td>\n",
       "    </tr>\n",
       "    <tr>\n",
       "      <th>3</th>\n",
       "      <td>[{'cast_id': 1, 'character': \"Savannah 'Vannah...</td>\n",
       "      <td>[{'credit_id': '52fe44779251416c91011acb', 'de...</td>\n",
       "      <td>31357</td>\n",
       "    </tr>\n",
       "    <tr>\n",
       "      <th>4</th>\n",
       "      <td>[{'cast_id': 1, 'character': 'George Banks', '...</td>\n",
       "      <td>[{'credit_id': '52fe44959251416c75039ed7', 'de...</td>\n",
       "      <td>11862</td>\n",
       "    </tr>\n",
       "  </tbody>\n",
       "</table>\n",
       "</div>"
      ],
      "text/plain": [
       "                                                cast  \\\n",
       "0  [{'cast_id': 14, 'character': 'Woody (voice)',...   \n",
       "1  [{'cast_id': 1, 'character': 'Alan Parrish', '...   \n",
       "2  [{'cast_id': 2, 'character': 'Max Goldman', 'c...   \n",
       "3  [{'cast_id': 1, 'character': \"Savannah 'Vannah...   \n",
       "4  [{'cast_id': 1, 'character': 'George Banks', '...   \n",
       "\n",
       "                                                crew     id  \n",
       "0  [{'credit_id': '52fe4284c3a36847f8024f49', 'de...    862  \n",
       "1  [{'credit_id': '52fe44bfc3a36847f80a7cd1', 'de...   8844  \n",
       "2  [{'credit_id': '52fe466a9251416c75077a89', 'de...  15602  \n",
       "3  [{'credit_id': '52fe44779251416c91011acb', 'de...  31357  \n",
       "4  [{'credit_id': '52fe44959251416c75039ed7', 'de...  11862  "
      ]
     },
     "execution_count": 17,
     "metadata": {},
     "output_type": "execute_result"
    }
   ],
   "source": [
    "#Inspecciono el csv llamado Credits\n",
    "data2 = pd.read_csv(\"C:/Users/jugas/Proyecto-PI01/Proyecto/data/credits.csv\")\n",
    "data2.head()"
   ]
  },
  {
   "cell_type": "code",
   "execution_count": 18,
   "metadata": {},
   "outputs": [],
   "source": [
    "#Armo una funcion para hacer un desanidado que me arroje un dataframe por cada columna, cuyas columnas correspondan \n",
    "#a las claves de los diccionarios contenidos en la columna original \n",
    "\n",
    "import ast\n",
    "\n",
    "# Función para extraer claves y valores\n",
    "def extraer_claves(diccionarios):\n",
    "    if isinstance(diccionarios, str):\n",
    "        try:\n",
    "            diccionarios = ast.literal_eval(diccionarios)\n",
    "        except (SyntaxError, ValueError):\n",
    "            return []\n",
    "\n",
    "    if not isinstance(diccionarios, list):\n",
    "        return []\n",
    "\n",
    "    resultado = []\n",
    "    for diccionario in diccionarios:\n",
    "        resultado.append(diccionario)\n",
    "    return resultado\n",
    "\n",
    "# Aplicar la función a la columna \"cast\"\n",
    "data2['cast'] = data2['cast'].apply(extraer_claves)"
   ]
  },
  {
   "cell_type": "code",
   "execution_count": 19,
   "metadata": {},
   "outputs": [],
   "source": [
    "df_cast = data2['cast'].explode().apply(pd.Series)"
   ]
  },
  {
   "cell_type": "code",
   "execution_count": 20,
   "metadata": {},
   "outputs": [
    {
     "data": {
      "text/html": [
       "<div>\n",
       "<style scoped>\n",
       "    .dataframe tbody tr th:only-of-type {\n",
       "        vertical-align: middle;\n",
       "    }\n",
       "\n",
       "    .dataframe tbody tr th {\n",
       "        vertical-align: top;\n",
       "    }\n",
       "\n",
       "    .dataframe thead th {\n",
       "        text-align: right;\n",
       "    }\n",
       "</style>\n",
       "<table border=\"1\" class=\"dataframe\">\n",
       "  <thead>\n",
       "    <tr style=\"text-align: right;\">\n",
       "      <th></th>\n",
       "      <th>cast_id</th>\n",
       "      <th>character</th>\n",
       "      <th>credit_id</th>\n",
       "      <th>gender</th>\n",
       "      <th>id</th>\n",
       "      <th>name</th>\n",
       "      <th>order</th>\n",
       "      <th>profile_path</th>\n",
       "      <th>0</th>\n",
       "    </tr>\n",
       "  </thead>\n",
       "  <tbody>\n",
       "    <tr>\n",
       "      <th>0</th>\n",
       "      <td>14.0</td>\n",
       "      <td>Woody (voice)</td>\n",
       "      <td>52fe4284c3a36847f8024f95</td>\n",
       "      <td>2.0</td>\n",
       "      <td>31.0</td>\n",
       "      <td>Tom Hanks</td>\n",
       "      <td>0.0</td>\n",
       "      <td>/pQFoyx7rp09CJTAb932F2g8Nlho.jpg</td>\n",
       "      <td>NaN</td>\n",
       "    </tr>\n",
       "    <tr>\n",
       "      <th>0</th>\n",
       "      <td>15.0</td>\n",
       "      <td>Buzz Lightyear (voice)</td>\n",
       "      <td>52fe4284c3a36847f8024f99</td>\n",
       "      <td>2.0</td>\n",
       "      <td>12898.0</td>\n",
       "      <td>Tim Allen</td>\n",
       "      <td>1.0</td>\n",
       "      <td>/uX2xVf6pMmPepxnvFWyBtjexzgY.jpg</td>\n",
       "      <td>NaN</td>\n",
       "    </tr>\n",
       "    <tr>\n",
       "      <th>0</th>\n",
       "      <td>16.0</td>\n",
       "      <td>Mr. Potato Head (voice)</td>\n",
       "      <td>52fe4284c3a36847f8024f9d</td>\n",
       "      <td>2.0</td>\n",
       "      <td>7167.0</td>\n",
       "      <td>Don Rickles</td>\n",
       "      <td>2.0</td>\n",
       "      <td>/h5BcaDMPRVLHLDzbQavec4xfSdt.jpg</td>\n",
       "      <td>NaN</td>\n",
       "    </tr>\n",
       "    <tr>\n",
       "      <th>0</th>\n",
       "      <td>17.0</td>\n",
       "      <td>Slinky Dog (voice)</td>\n",
       "      <td>52fe4284c3a36847f8024fa1</td>\n",
       "      <td>2.0</td>\n",
       "      <td>12899.0</td>\n",
       "      <td>Jim Varney</td>\n",
       "      <td>3.0</td>\n",
       "      <td>/eIo2jVVXYgjDtaHoF19Ll9vtW7h.jpg</td>\n",
       "      <td>NaN</td>\n",
       "    </tr>\n",
       "    <tr>\n",
       "      <th>0</th>\n",
       "      <td>18.0</td>\n",
       "      <td>Rex (voice)</td>\n",
       "      <td>52fe4284c3a36847f8024fa5</td>\n",
       "      <td>2.0</td>\n",
       "      <td>12900.0</td>\n",
       "      <td>Wallace Shawn</td>\n",
       "      <td>4.0</td>\n",
       "      <td>/oGE6JqPP2xH4tNORKNqxbNPYi7u.jpg</td>\n",
       "      <td>NaN</td>\n",
       "    </tr>\n",
       "  </tbody>\n",
       "</table>\n",
       "</div>"
      ],
      "text/plain": [
       "   cast_id                character                 credit_id  gender  \\\n",
       "0     14.0            Woody (voice)  52fe4284c3a36847f8024f95     2.0   \n",
       "0     15.0   Buzz Lightyear (voice)  52fe4284c3a36847f8024f99     2.0   \n",
       "0     16.0  Mr. Potato Head (voice)  52fe4284c3a36847f8024f9d     2.0   \n",
       "0     17.0       Slinky Dog (voice)  52fe4284c3a36847f8024fa1     2.0   \n",
       "0     18.0              Rex (voice)  52fe4284c3a36847f8024fa5     2.0   \n",
       "\n",
       "        id           name  order                      profile_path   0  \n",
       "0     31.0      Tom Hanks    0.0  /pQFoyx7rp09CJTAb932F2g8Nlho.jpg NaN  \n",
       "0  12898.0      Tim Allen    1.0  /uX2xVf6pMmPepxnvFWyBtjexzgY.jpg NaN  \n",
       "0   7167.0    Don Rickles    2.0  /h5BcaDMPRVLHLDzbQavec4xfSdt.jpg NaN  \n",
       "0  12899.0     Jim Varney    3.0  /eIo2jVVXYgjDtaHoF19Ll9vtW7h.jpg NaN  \n",
       "0  12900.0  Wallace Shawn    4.0  /oGE6JqPP2xH4tNORKNqxbNPYi7u.jpg NaN  "
      ]
     },
     "execution_count": 20,
     "metadata": {},
     "output_type": "execute_result"
    }
   ],
   "source": [
    "df_cast.head()"
   ]
  },
  {
   "cell_type": "code",
   "execution_count": 21,
   "metadata": {},
   "outputs": [],
   "source": [
    "#Elimino las columnas que considero irrelevantes: \n",
    "\n",
    "df_cast.drop(['credit_id', 'profile_path', 0], axis=1, inplace=True)"
   ]
  },
  {
   "cell_type": "code",
   "execution_count": 22,
   "metadata": {},
   "outputs": [],
   "source": [
    "#Aplico la funcion a la columna \"crew\"\n",
    "\n",
    "data2['crew'] = data2['crew'].apply(extraer_claves)\n",
    "df_crew = data2['crew'].explode().apply(pd.Series)"
   ]
  },
  {
   "cell_type": "code",
   "execution_count": 23,
   "metadata": {},
   "outputs": [
    {
     "data": {
      "text/html": [
       "<div>\n",
       "<style scoped>\n",
       "    .dataframe tbody tr th:only-of-type {\n",
       "        vertical-align: middle;\n",
       "    }\n",
       "\n",
       "    .dataframe tbody tr th {\n",
       "        vertical-align: top;\n",
       "    }\n",
       "\n",
       "    .dataframe thead th {\n",
       "        text-align: right;\n",
       "    }\n",
       "</style>\n",
       "<table border=\"1\" class=\"dataframe\">\n",
       "  <thead>\n",
       "    <tr style=\"text-align: right;\">\n",
       "      <th></th>\n",
       "      <th>credit_id</th>\n",
       "      <th>department</th>\n",
       "      <th>gender</th>\n",
       "      <th>id</th>\n",
       "      <th>job</th>\n",
       "      <th>name</th>\n",
       "      <th>profile_path</th>\n",
       "      <th>0</th>\n",
       "    </tr>\n",
       "  </thead>\n",
       "  <tbody>\n",
       "    <tr>\n",
       "      <th>0</th>\n",
       "      <td>52fe4284c3a36847f8024f49</td>\n",
       "      <td>Directing</td>\n",
       "      <td>2.0</td>\n",
       "      <td>7879.0</td>\n",
       "      <td>Director</td>\n",
       "      <td>John Lasseter</td>\n",
       "      <td>/7EdqiNbr4FRjIhKHyPPdFfEEEFG.jpg</td>\n",
       "      <td>NaN</td>\n",
       "    </tr>\n",
       "    <tr>\n",
       "      <th>0</th>\n",
       "      <td>52fe4284c3a36847f8024f4f</td>\n",
       "      <td>Writing</td>\n",
       "      <td>2.0</td>\n",
       "      <td>12891.0</td>\n",
       "      <td>Screenplay</td>\n",
       "      <td>Joss Whedon</td>\n",
       "      <td>/dTiVsuaTVTeGmvkhcyJvKp2A5kr.jpg</td>\n",
       "      <td>NaN</td>\n",
       "    </tr>\n",
       "    <tr>\n",
       "      <th>0</th>\n",
       "      <td>52fe4284c3a36847f8024f55</td>\n",
       "      <td>Writing</td>\n",
       "      <td>2.0</td>\n",
       "      <td>7.0</td>\n",
       "      <td>Screenplay</td>\n",
       "      <td>Andrew Stanton</td>\n",
       "      <td>/pvQWsu0qc8JFQhMVJkTHuexUAa1.jpg</td>\n",
       "      <td>NaN</td>\n",
       "    </tr>\n",
       "    <tr>\n",
       "      <th>0</th>\n",
       "      <td>52fe4284c3a36847f8024f5b</td>\n",
       "      <td>Writing</td>\n",
       "      <td>2.0</td>\n",
       "      <td>12892.0</td>\n",
       "      <td>Screenplay</td>\n",
       "      <td>Joel Cohen</td>\n",
       "      <td>/dAubAiZcvKFbboWlj7oXOkZnTSu.jpg</td>\n",
       "      <td>NaN</td>\n",
       "    </tr>\n",
       "    <tr>\n",
       "      <th>0</th>\n",
       "      <td>52fe4284c3a36847f8024f61</td>\n",
       "      <td>Writing</td>\n",
       "      <td>0.0</td>\n",
       "      <td>12893.0</td>\n",
       "      <td>Screenplay</td>\n",
       "      <td>Alec Sokolow</td>\n",
       "      <td>/v79vlRYi94BZUQnkkyznbGUZLjT.jpg</td>\n",
       "      <td>NaN</td>\n",
       "    </tr>\n",
       "  </tbody>\n",
       "</table>\n",
       "</div>"
      ],
      "text/plain": [
       "                  credit_id department  gender       id         job  \\\n",
       "0  52fe4284c3a36847f8024f49  Directing     2.0   7879.0    Director   \n",
       "0  52fe4284c3a36847f8024f4f    Writing     2.0  12891.0  Screenplay   \n",
       "0  52fe4284c3a36847f8024f55    Writing     2.0      7.0  Screenplay   \n",
       "0  52fe4284c3a36847f8024f5b    Writing     2.0  12892.0  Screenplay   \n",
       "0  52fe4284c3a36847f8024f61    Writing     0.0  12893.0  Screenplay   \n",
       "\n",
       "             name                      profile_path   0  \n",
       "0   John Lasseter  /7EdqiNbr4FRjIhKHyPPdFfEEEFG.jpg NaN  \n",
       "0     Joss Whedon  /dTiVsuaTVTeGmvkhcyJvKp2A5kr.jpg NaN  \n",
       "0  Andrew Stanton  /pvQWsu0qc8JFQhMVJkTHuexUAa1.jpg NaN  \n",
       "0      Joel Cohen  /dAubAiZcvKFbboWlj7oXOkZnTSu.jpg NaN  \n",
       "0    Alec Sokolow  /v79vlRYi94BZUQnkkyznbGUZLjT.jpg NaN  "
      ]
     },
     "execution_count": 23,
     "metadata": {},
     "output_type": "execute_result"
    }
   ],
   "source": [
    "df_crew.head()"
   ]
  },
  {
   "cell_type": "code",
   "execution_count": 24,
   "metadata": {},
   "outputs": [],
   "source": [
    "#Elimino las columnas que considero irrelevantes: \n",
    "\n",
    "df_crew.drop(['credit_id', 'profile_path', 0], axis=1, inplace=True)"
   ]
  },
  {
   "cell_type": "code",
   "execution_count": 25,
   "metadata": {},
   "outputs": [
    {
     "data": {
      "text/html": [
       "<div>\n",
       "<style scoped>\n",
       "    .dataframe tbody tr th:only-of-type {\n",
       "        vertical-align: middle;\n",
       "    }\n",
       "\n",
       "    .dataframe tbody tr th {\n",
       "        vertical-align: top;\n",
       "    }\n",
       "\n",
       "    .dataframe thead th {\n",
       "        text-align: right;\n",
       "    }\n",
       "</style>\n",
       "<table border=\"1\" class=\"dataframe\">\n",
       "  <thead>\n",
       "    <tr style=\"text-align: right;\">\n",
       "      <th></th>\n",
       "      <th>department</th>\n",
       "      <th>gender</th>\n",
       "      <th>id</th>\n",
       "      <th>job</th>\n",
       "      <th>name</th>\n",
       "    </tr>\n",
       "  </thead>\n",
       "  <tbody>\n",
       "    <tr>\n",
       "      <th>0</th>\n",
       "      <td>Directing</td>\n",
       "      <td>2.0</td>\n",
       "      <td>7879.0</td>\n",
       "      <td>Director</td>\n",
       "      <td>John Lasseter</td>\n",
       "    </tr>\n",
       "    <tr>\n",
       "      <th>0</th>\n",
       "      <td>Writing</td>\n",
       "      <td>2.0</td>\n",
       "      <td>12891.0</td>\n",
       "      <td>Screenplay</td>\n",
       "      <td>Joss Whedon</td>\n",
       "    </tr>\n",
       "    <tr>\n",
       "      <th>0</th>\n",
       "      <td>Writing</td>\n",
       "      <td>2.0</td>\n",
       "      <td>7.0</td>\n",
       "      <td>Screenplay</td>\n",
       "      <td>Andrew Stanton</td>\n",
       "    </tr>\n",
       "    <tr>\n",
       "      <th>0</th>\n",
       "      <td>Writing</td>\n",
       "      <td>2.0</td>\n",
       "      <td>12892.0</td>\n",
       "      <td>Screenplay</td>\n",
       "      <td>Joel Cohen</td>\n",
       "    </tr>\n",
       "    <tr>\n",
       "      <th>0</th>\n",
       "      <td>Writing</td>\n",
       "      <td>0.0</td>\n",
       "      <td>12893.0</td>\n",
       "      <td>Screenplay</td>\n",
       "      <td>Alec Sokolow</td>\n",
       "    </tr>\n",
       "  </tbody>\n",
       "</table>\n",
       "</div>"
      ],
      "text/plain": [
       "  department  gender       id         job            name\n",
       "0  Directing     2.0   7879.0    Director   John Lasseter\n",
       "0    Writing     2.0  12891.0  Screenplay     Joss Whedon\n",
       "0    Writing     2.0      7.0  Screenplay  Andrew Stanton\n",
       "0    Writing     2.0  12892.0  Screenplay      Joel Cohen\n",
       "0    Writing     0.0  12893.0  Screenplay    Alec Sokolow"
      ]
     },
     "execution_count": 25,
     "metadata": {},
     "output_type": "execute_result"
    }
   ],
   "source": [
    "df_crew.head()"
   ]
  },
  {
   "cell_type": "code",
   "execution_count": 26,
   "metadata": {},
   "outputs": [
    {
     "name": "stdout",
     "output_type": "stream",
     "text": [
      "358733\n"
     ]
    }
   ],
   "source": [
    "#Verifico si hay ids duplicados en df_cast\n",
    "print(df_cast.duplicated(subset='id').sum())"
   ]
  },
  {
   "cell_type": "code",
   "execution_count": 27,
   "metadata": {},
   "outputs": [
    {
     "name": "stdout",
     "output_type": "stream",
     "text": [
      "       cast_id                character  gender         id               name  \\\n",
      "0         14.0            Woody (voice)     2.0       31.0          Tom Hanks   \n",
      "0         15.0   Buzz Lightyear (voice)     2.0    12898.0          Tim Allen   \n",
      "0         16.0  Mr. Potato Head (voice)     2.0     7167.0        Don Rickles   \n",
      "0         17.0       Slinky Dog (voice)     2.0    12899.0         Jim Varney   \n",
      "0         18.0              Rex (voice)     2.0    12900.0      Wallace Shawn   \n",
      "...        ...                      ...     ...        ...                ...   \n",
      "45474      3.0                              1.0  1090923.0  Nathalie Lissenko   \n",
      "45474      4.0                              2.0  1136422.0       Pavel Pavlov   \n",
      "45474      5.0                              0.0  1261758.0  Aleksandr Chabrov   \n",
      "45474      6.0                              1.0    29199.0        Vera Orlova   \n",
      "45475      NaN                      NaN     NaN        NaN                NaN   \n",
      "\n",
      "       order  \n",
      "0        0.0  \n",
      "0        1.0  \n",
      "0        2.0  \n",
      "0        3.0  \n",
      "0        4.0  \n",
      "...      ...  \n",
      "45474    1.0  \n",
      "45474    2.0  \n",
      "45474    3.0  \n",
      "45474    4.0  \n",
      "45475    NaN  \n",
      "\n",
      "[564892 rows x 6 columns]\n",
      "Cantidad de IDs distintos: 206158\n"
     ]
    }
   ],
   "source": [
    "# Verifico los IDs distintos en \"cast\"\n",
    "cantidad_ids_distintos = df_cast['id'].nunique()\n",
    "\n",
    "print(df_cast)\n",
    "print(\"Cantidad de IDs distintos:\", cantidad_ids_distintos)"
   ]
  },
  {
   "cell_type": "code",
   "execution_count": 28,
   "metadata": {},
   "outputs": [
    {
     "name": "stdout",
     "output_type": "stream",
     "text": [
      "       cast_id                character  gender         id               name  \\\n",
      "0         14.0            Woody (voice)     2.0       31.0          Tom Hanks   \n",
      "0         15.0   Buzz Lightyear (voice)     2.0    12898.0          Tim Allen   \n",
      "0         16.0  Mr. Potato Head (voice)     2.0     7167.0        Don Rickles   \n",
      "0         17.0       Slinky Dog (voice)     2.0    12899.0         Jim Varney   \n",
      "0         18.0              Rex (voice)     2.0    12900.0      Wallace Shawn   \n",
      "...        ...                      ...     ...        ...                ...   \n",
      "45473      9.0               Kerry Shaw     2.0   169498.0    Jeremy Lelliott   \n",
      "45473     15.0                     Boyd     0.0  1177500.0      Jason Widener   \n",
      "45473     17.0                    Steve     2.0    93930.0     Kiko Ellsworth   \n",
      "45473     20.0                  Doorman     0.0  1686379.0   Darrell Dubovsky   \n",
      "45474      5.0                              0.0  1261758.0  Aleksandr Chabrov   \n",
      "\n",
      "       order  \n",
      "0        0.0  \n",
      "0        1.0  \n",
      "0        2.0  \n",
      "0        3.0  \n",
      "0        4.0  \n",
      "...      ...  \n",
      "45473    7.0  \n",
      "45473    9.0  \n",
      "45473   11.0  \n",
      "45473   14.0  \n",
      "45474    3.0  \n",
      "\n",
      "[206159 rows x 6 columns]\n"
     ]
    }
   ],
   "source": [
    "#Elimino los ids duplicados en cast\n",
    "\n",
    "df_cast_final = df_cast.drop_duplicates(subset='id', keep='first')\n",
    "\n",
    "print(df_cast_final)"
   ]
  },
  {
   "cell_type": "code",
   "execution_count": 29,
   "metadata": {},
   "outputs": [
    {
     "name": "stdout",
     "output_type": "stream",
     "text": [
      "303509\n"
     ]
    }
   ],
   "source": [
    "#Verifico si hay ids duplicados en df_crew\n",
    "print(df_crew.duplicated(subset='id').sum())"
   ]
  },
  {
   "cell_type": "code",
   "execution_count": 30,
   "metadata": {},
   "outputs": [
    {
     "name": "stdout",
     "output_type": "stream",
     "text": [
      "       department  gender         id                      job  \\\n",
      "0       Directing     2.0     7879.0                 Director   \n",
      "0         Writing     2.0    12891.0               Screenplay   \n",
      "0         Writing     2.0        7.0               Screenplay   \n",
      "0         Writing     2.0    12892.0               Screenplay   \n",
      "0         Writing     0.0    12893.0               Screenplay   \n",
      "...           ...     ...        ...                      ...   \n",
      "45473       Sound     0.0   549356.0  Original Music Composer   \n",
      "45473      Camera     2.0    58818.0  Director of Photography   \n",
      "45474   Directing     0.0  1085341.0                 Director   \n",
      "45474  Production     2.0  1195656.0                 Producer   \n",
      "45475   Directing     0.0  1344495.0                 Director   \n",
      "\n",
      "                      name  \n",
      "0            John Lasseter  \n",
      "0              Joss Whedon  \n",
      "0           Andrew Stanton  \n",
      "0               Joel Cohen  \n",
      "0             Alec Sokolow  \n",
      "...                    ...  \n",
      "45473       Richard McHugh  \n",
      "45473       João Fernandes  \n",
      "45474     Yakov Protazanov  \n",
      "45474  Joseph N. Ermolieff  \n",
      "45475        Daisy Asquith  \n",
      "\n",
      "[465085 rows x 5 columns]\n",
      "Cantidad de IDs distintos: 161575\n"
     ]
    }
   ],
   "source": [
    "# Verifico los IDs distintos en \"crew\"\n",
    "cantidad_ids_distintos = df_crew['id'].nunique()\n",
    "\n",
    "print(df_crew)\n",
    "print(\"Cantidad de IDs distintos:\", cantidad_ids_distintos)"
   ]
  },
  {
   "cell_type": "code",
   "execution_count": 31,
   "metadata": {},
   "outputs": [
    {
     "name": "stdout",
     "output_type": "stream",
     "text": [
      "              department  gender         id                job  \\\n",
      "0              Directing     2.0     7879.0           Director   \n",
      "0                Writing     2.0    12891.0         Screenplay   \n",
      "0                Writing     2.0        7.0         Screenplay   \n",
      "0                Writing     2.0    12892.0         Screenplay   \n",
      "0                Writing     0.0    12893.0         Screenplay   \n",
      "...                  ...     ...        ...                ...   \n",
      "45471  Costume & Make-Up     0.0  1749862.0    Makeup Designer   \n",
      "45471              Sound     0.0  1749863.0              Songs   \n",
      "45472                Art     0.0  1728582.0  Production Design   \n",
      "45473            Writing     2.0   549355.0         Screenplay   \n",
      "45475          Directing     0.0  1344495.0           Director   \n",
      "\n",
      "                     name  \n",
      "0           John Lasseter  \n",
      "0             Joss Whedon  \n",
      "0          Andrew Stanton  \n",
      "0              Joel Cohen  \n",
      "0            Alec Sokolow  \n",
      "...                   ...  \n",
      "45471       Sahand Torabi  \n",
      "45471  Homayoun Shajarian  \n",
      "45472         Dante Perez  \n",
      "45473  Jeffrey Goldenberg  \n",
      "45475       Daisy Asquith  \n",
      "\n",
      "[161576 rows x 5 columns]\n"
     ]
    }
   ],
   "source": [
    "#Elimino los ids duplicados en crew\n",
    "\n",
    "df_crew_final = df_crew.drop_duplicates(subset='id', keep='first')\n",
    "\n",
    "print(df_crew_final)"
   ]
  },
  {
   "cell_type": "code",
   "execution_count": 32,
   "metadata": {},
   "outputs": [
    {
     "name": "stdout",
     "output_type": "stream",
     "text": [
      "object\n"
     ]
    }
   ],
   "source": [
    "print(data1['id'].dtype)  # Chequeo el dtype de la columna \"id\" de movies_dataset"
   ]
  },
  {
   "cell_type": "code",
   "execution_count": 33,
   "metadata": {},
   "outputs": [],
   "source": [
    "# Convierto \"id\" a numérico y elimino los no numéricos \n",
    "data1['id'] = pd.to_numeric(data1['id'], errors='coerce')\n",
    "mask = data1['id'].isna()\n",
    "data1 = data1[~mask]\n",
    "\n",
    "# Sobreescribo el DataFrame original con los datos filtrados\n",
    "data1 = data1.copy() \n"
   ]
  },
  {
   "cell_type": "code",
   "execution_count": 34,
   "metadata": {},
   "outputs": [],
   "source": [
    "# Convierto \"id\" a numérico y elimino los no numéricos en df_cast\n",
    "df_cast['id'] = pd.to_numeric(df_cast['id'], errors='coerce')\n",
    "mask = df_cast['id'].isna()\n",
    "df_cast = df_cast[~mask]\n",
    "\n",
    "# Sobreescribo el DataFrame original con los datos filtrados\n",
    "df_cast = df_cast.copy() \n"
   ]
  },
  {
   "cell_type": "code",
   "execution_count": 35,
   "metadata": {},
   "outputs": [
    {
     "name": "stdout",
     "output_type": "stream",
     "text": [
      "float64\n"
     ]
    }
   ],
   "source": [
    "print(df_cast['id'].dtype)  # Chequeo el dtype de la columna \"id\" de df_cast"
   ]
  },
  {
   "cell_type": "code",
   "execution_count": 36,
   "metadata": {},
   "outputs": [],
   "source": [
    "merged_df1 = pd.merge(data1[['id', 'title', 'return']], df_cast[['id', 'name']], on='id')"
   ]
  },
  {
   "cell_type": "code",
   "execution_count": 41,
   "metadata": {},
   "outputs": [],
   "source": [
    "# Filtro para mantener solo las filas con valores únicos en la columna 'id' y modifico el df\n",
    "merged_df1 = merged_df1.drop_duplicates(subset='id', keep='first')\n",
    "\n",
    "merged_df1.head()"
   ]
  },
  {
   "cell_type": "code",
   "execution_count": 37,
   "metadata": {},
   "outputs": [
    {
     "name": "stdout",
     "output_type": "stream",
     "text": [
      "float64\n"
     ]
    }
   ],
   "source": [
    "print(df_crew['id'].dtype)  # Chequeo el dtype de la columna \"id\" de df_crew"
   ]
  },
  {
   "cell_type": "code",
   "execution_count": 38,
   "metadata": {},
   "outputs": [],
   "source": [
    "merged_df2 = pd.merge(data1[['id', 'title', 'return', 'release_date', 'budget', 'revenue']], df_crew[['id', 'job', 'name']], on='id')"
   ]
  },
  {
   "cell_type": "code",
   "execution_count": 42,
   "metadata": {},
   "outputs": [],
   "source": [
    "# Filtro para mantener solo las filas con valores únicos en la columna 'id' y modifico el df\n",
    "merged_df2 = merged_df2.drop_duplicates(subset='id', keep='first')"
   ]
  },
  {
   "cell_type": "code",
   "execution_count": 43,
   "metadata": {},
   "outputs": [
    {
     "data": {
      "text/html": [
       "<div>\n",
       "<style scoped>\n",
       "    .dataframe tbody tr th:only-of-type {\n",
       "        vertical-align: middle;\n",
       "    }\n",
       "\n",
       "    .dataframe tbody tr th {\n",
       "        vertical-align: top;\n",
       "    }\n",
       "\n",
       "    .dataframe thead th {\n",
       "        text-align: right;\n",
       "    }\n",
       "</style>\n",
       "<table border=\"1\" class=\"dataframe\">\n",
       "  <thead>\n",
       "    <tr style=\"text-align: right;\">\n",
       "      <th></th>\n",
       "      <th>id</th>\n",
       "      <th>title</th>\n",
       "      <th>return</th>\n",
       "      <th>release_date</th>\n",
       "      <th>budget</th>\n",
       "      <th>revenue</th>\n",
       "      <th>job</th>\n",
       "      <th>name</th>\n",
       "    </tr>\n",
       "  </thead>\n",
       "  <tbody>\n",
       "    <tr>\n",
       "      <th>0</th>\n",
       "      <td>862.0</td>\n",
       "      <td>Toy Story</td>\n",
       "      <td>12.451801</td>\n",
       "      <td>1995-10-30</td>\n",
       "      <td>30000000</td>\n",
       "      <td>373554033.0</td>\n",
       "      <td>Director</td>\n",
       "      <td>George C. Scott</td>\n",
       "    </tr>\n",
       "    <tr>\n",
       "      <th>1</th>\n",
       "      <td>8844.0</td>\n",
       "      <td>Jumanji</td>\n",
       "      <td>4.043035</td>\n",
       "      <td>1995-12-15</td>\n",
       "      <td>65000000</td>\n",
       "      <td>262797249.0</td>\n",
       "      <td>Director</td>\n",
       "      <td>Lawrence Kasdan</td>\n",
       "    </tr>\n",
       "    <tr>\n",
       "      <th>40</th>\n",
       "      <td>15602.0</td>\n",
       "      <td>Grumpier Old Men</td>\n",
       "      <td>0.000000</td>\n",
       "      <td>1995-12-22</td>\n",
       "      <td>0</td>\n",
       "      <td>0.0</td>\n",
       "      <td>Director</td>\n",
       "      <td>Fernando León de Aranoa</td>\n",
       "    </tr>\n",
       "    <tr>\n",
       "      <th>52</th>\n",
       "      <td>11862.0</td>\n",
       "      <td>Father of the Bride Part II</td>\n",
       "      <td>inf</td>\n",
       "      <td>1995-02-10</td>\n",
       "      <td>0</td>\n",
       "      <td>76578911.0</td>\n",
       "      <td>Executive Producer</td>\n",
       "      <td>Michael Stanley-Evans</td>\n",
       "    </tr>\n",
       "    <tr>\n",
       "      <th>54</th>\n",
       "      <td>949.0</td>\n",
       "      <td>Heat</td>\n",
       "      <td>3.123947</td>\n",
       "      <td>1995-12-15</td>\n",
       "      <td>60000000</td>\n",
       "      <td>187436818.0</td>\n",
       "      <td>Casting</td>\n",
       "      <td>Louis DiGiaimo</td>\n",
       "    </tr>\n",
       "  </tbody>\n",
       "</table>\n",
       "</div>"
      ],
      "text/plain": [
       "         id                        title     return release_date    budget  \\\n",
       "0     862.0                    Toy Story  12.451801   1995-10-30  30000000   \n",
       "1    8844.0                      Jumanji   4.043035   1995-12-15  65000000   \n",
       "40  15602.0             Grumpier Old Men   0.000000   1995-12-22         0   \n",
       "52  11862.0  Father of the Bride Part II        inf   1995-02-10         0   \n",
       "54    949.0                         Heat   3.123947   1995-12-15  60000000   \n",
       "\n",
       "        revenue                 job                     name  \n",
       "0   373554033.0            Director          George C. Scott  \n",
       "1   262797249.0            Director          Lawrence Kasdan  \n",
       "40          0.0            Director  Fernando León de Aranoa  \n",
       "52   76578911.0  Executive Producer    Michael Stanley-Evans  \n",
       "54  187436818.0             Casting           Louis DiGiaimo  "
      ]
     },
     "execution_count": 43,
     "metadata": {},
     "output_type": "execute_result"
    }
   ],
   "source": [
    "merged_df2.head()"
   ]
  },
  {
   "cell_type": "code",
   "execution_count": 44,
   "metadata": {},
   "outputs": [],
   "source": [
    "#convierto los csv resultantes a parquet\n",
    "#data1.to_parquet(\"C:/Users/jugas/Proyecto/proyecto/data/info_peliculas.parquet\")\n",
    "merged_df1.to_parquet(\"C:/Users/jugas/Proyecto/proyecto/data/data_actor.parquet\")\n",
    "merged_df2.to_parquet(\"C:/Users/jugas/Proyecto/proyecto/data/data_director.parquet\")"
   ]
  }
 ],
 "metadata": {
  "kernelspec": {
   "display_name": "Python 3",
   "language": "python",
   "name": "python3"
  },
  "language_info": {
   "codemirror_mode": {
    "name": "ipython",
    "version": 3
   },
   "file_extension": ".py",
   "mimetype": "text/x-python",
   "name": "python",
   "nbconvert_exporter": "python",
   "pygments_lexer": "ipython3",
   "version": "3.12.2"
  }
 },
 "nbformat": 4,
 "nbformat_minor": 2
}
