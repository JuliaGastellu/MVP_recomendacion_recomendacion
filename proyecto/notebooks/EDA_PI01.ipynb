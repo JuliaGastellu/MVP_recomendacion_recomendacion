{
 "cells": [
  {
   "cell_type": "markdown",
   "metadata": {},
   "source": [
    "<center>\n",
    "<font size=\"6\">Análisis exploratorio de datos para armar un sistema de recomendación de películas</font>\n",
    "</center>\n"
   ]
  },
  {
   "cell_type": "code",
   "execution_count": 33,
   "metadata": {},
   "outputs": [],
   "source": [
    "#Cargo las librerías\n",
    "\n",
    "import pandas as pd\n",
    "import numpy as np\n",
    "import matplotlib.pyplot as plt\n",
    "import seaborn as sns"
   ]
  },
  {
   "cell_type": "code",
   "execution_count": 34,
   "metadata": {},
   "outputs": [],
   "source": [
    "#Cargo los archivos parquet producto del ETL\n",
    "\n",
    "df_peliculas = pd.read_parquet(\"C:/Users/jugas/Proyecto/Proyecto/data/info_peliculas.parquet\")\n",
    "df_reparto = pd.read_parquet(\"C:/Users/jugas/Proyecto/Proyecto/data/data_actor.parquet\")\n",
    "df_equipo = pd.read_parquet(\"C:/Users/jugas/Proyecto/Proyecto/data/data_director.parquet\")"
   ]
  },
  {
   "cell_type": "markdown",
   "metadata": {},
   "source": [
    "Comienzo inspeccionando el dataset de peliculas\n"
   ]
  },
  {
   "cell_type": "code",
   "execution_count": 35,
   "metadata": {},
   "outputs": [
    {
     "data": {
      "text/html": [
       "<div>\n",
       "<style scoped>\n",
       "    .dataframe tbody tr th:only-of-type {\n",
       "        vertical-align: middle;\n",
       "    }\n",
       "\n",
       "    .dataframe tbody tr th {\n",
       "        vertical-align: top;\n",
       "    }\n",
       "\n",
       "    .dataframe thead th {\n",
       "        text-align: right;\n",
       "    }\n",
       "</style>\n",
       "<table border=\"1\" class=\"dataframe\">\n",
       "  <thead>\n",
       "    <tr style=\"text-align: right;\">\n",
       "      <th></th>\n",
       "      <th>belongs_to_collection</th>\n",
       "      <th>budget</th>\n",
       "      <th>genres</th>\n",
       "      <th>id</th>\n",
       "      <th>original_language</th>\n",
       "      <th>overview</th>\n",
       "      <th>popularity</th>\n",
       "      <th>production_companies</th>\n",
       "      <th>production_countries</th>\n",
       "      <th>release_date</th>\n",
       "      <th>revenue</th>\n",
       "      <th>runtime</th>\n",
       "      <th>spoken_languages</th>\n",
       "      <th>status</th>\n",
       "      <th>tagline</th>\n",
       "      <th>title</th>\n",
       "      <th>vote_average</th>\n",
       "      <th>vote_count</th>\n",
       "      <th>release_year</th>\n",
       "      <th>return</th>\n",
       "    </tr>\n",
       "  </thead>\n",
       "  <tbody>\n",
       "    <tr>\n",
       "      <th>0</th>\n",
       "      <td>Toy Story Collection</td>\n",
       "      <td>30000000</td>\n",
       "      <td>[Animation, Comedy, Family]</td>\n",
       "      <td>862.0</td>\n",
       "      <td>en</td>\n",
       "      <td>Led by Woody, Andy's toys live happily in his ...</td>\n",
       "      <td>21.946943</td>\n",
       "      <td>[Pixar Animation Studios]</td>\n",
       "      <td>[United States of America]</td>\n",
       "      <td>1995-10-30</td>\n",
       "      <td>373554033.0</td>\n",
       "      <td>81.0</td>\n",
       "      <td>[English]</td>\n",
       "      <td>Released</td>\n",
       "      <td>None</td>\n",
       "      <td>Toy Story</td>\n",
       "      <td>7.7</td>\n",
       "      <td>5415.0</td>\n",
       "      <td>1995.0</td>\n",
       "      <td>12.451801</td>\n",
       "    </tr>\n",
       "    <tr>\n",
       "      <th>1</th>\n",
       "      <td>not collection</td>\n",
       "      <td>65000000</td>\n",
       "      <td>[Adventure, Fantasy, Family]</td>\n",
       "      <td>8844.0</td>\n",
       "      <td>en</td>\n",
       "      <td>When siblings Judy and Peter discover an encha...</td>\n",
       "      <td>17.015539</td>\n",
       "      <td>[TriStar Pictures, Teitler Film, Interscope Co...</td>\n",
       "      <td>[United States of America]</td>\n",
       "      <td>1995-12-15</td>\n",
       "      <td>262797249.0</td>\n",
       "      <td>104.0</td>\n",
       "      <td>[English, Français]</td>\n",
       "      <td>Released</td>\n",
       "      <td>Roll the dice and unleash the excitement!</td>\n",
       "      <td>Jumanji</td>\n",
       "      <td>6.9</td>\n",
       "      <td>2413.0</td>\n",
       "      <td>1995.0</td>\n",
       "      <td>4.043035</td>\n",
       "    </tr>\n",
       "    <tr>\n",
       "      <th>2</th>\n",
       "      <td>Grumpy Old Men Collection</td>\n",
       "      <td>0</td>\n",
       "      <td>[Romance, Comedy]</td>\n",
       "      <td>15602.0</td>\n",
       "      <td>en</td>\n",
       "      <td>A family wedding reignites the ancient feud be...</td>\n",
       "      <td>11.712900</td>\n",
       "      <td>[Warner Bros., Lancaster Gate]</td>\n",
       "      <td>[United States of America]</td>\n",
       "      <td>1995-12-22</td>\n",
       "      <td>0.0</td>\n",
       "      <td>101.0</td>\n",
       "      <td>[English]</td>\n",
       "      <td>Released</td>\n",
       "      <td>Still Yelling. Still Fighting. Still Ready for...</td>\n",
       "      <td>Grumpier Old Men</td>\n",
       "      <td>6.5</td>\n",
       "      <td>92.0</td>\n",
       "      <td>1995.0</td>\n",
       "      <td>0.000000</td>\n",
       "    </tr>\n",
       "    <tr>\n",
       "      <th>3</th>\n",
       "      <td>not collection</td>\n",
       "      <td>16000000</td>\n",
       "      <td>[Comedy, Drama, Romance]</td>\n",
       "      <td>31357.0</td>\n",
       "      <td>en</td>\n",
       "      <td>Cheated on, mistreated and stepped on, the wom...</td>\n",
       "      <td>3.859495</td>\n",
       "      <td>[Twentieth Century Fox Film Corporation]</td>\n",
       "      <td>[United States of America]</td>\n",
       "      <td>1995-12-22</td>\n",
       "      <td>81452156.0</td>\n",
       "      <td>127.0</td>\n",
       "      <td>[English]</td>\n",
       "      <td>Released</td>\n",
       "      <td>Friends are the people who let you be yourself...</td>\n",
       "      <td>Waiting to Exhale</td>\n",
       "      <td>6.1</td>\n",
       "      <td>34.0</td>\n",
       "      <td>1995.0</td>\n",
       "      <td>5.090760</td>\n",
       "    </tr>\n",
       "    <tr>\n",
       "      <th>4</th>\n",
       "      <td>Father of the Bride Collection</td>\n",
       "      <td>0</td>\n",
       "      <td>[Comedy]</td>\n",
       "      <td>11862.0</td>\n",
       "      <td>en</td>\n",
       "      <td>Just when George Banks has recovered from his ...</td>\n",
       "      <td>8.387519</td>\n",
       "      <td>[Sandollar Productions, Touchstone Pictures]</td>\n",
       "      <td>[United States of America]</td>\n",
       "      <td>1995-02-10</td>\n",
       "      <td>76578911.0</td>\n",
       "      <td>106.0</td>\n",
       "      <td>[English]</td>\n",
       "      <td>Released</td>\n",
       "      <td>Just When His World Is Back To Normal... He's ...</td>\n",
       "      <td>Father of the Bride Part II</td>\n",
       "      <td>5.7</td>\n",
       "      <td>173.0</td>\n",
       "      <td>1995.0</td>\n",
       "      <td>inf</td>\n",
       "    </tr>\n",
       "  </tbody>\n",
       "</table>\n",
       "</div>"
      ],
      "text/plain": [
       "            belongs_to_collection    budget                        genres  \\\n",
       "0            Toy Story Collection  30000000   [Animation, Comedy, Family]   \n",
       "1                  not collection  65000000  [Adventure, Fantasy, Family]   \n",
       "2       Grumpy Old Men Collection         0             [Romance, Comedy]   \n",
       "3                  not collection  16000000      [Comedy, Drama, Romance]   \n",
       "4  Father of the Bride Collection         0                      [Comedy]   \n",
       "\n",
       "        id original_language  \\\n",
       "0    862.0                en   \n",
       "1   8844.0                en   \n",
       "2  15602.0                en   \n",
       "3  31357.0                en   \n",
       "4  11862.0                en   \n",
       "\n",
       "                                            overview  popularity  \\\n",
       "0  Led by Woody, Andy's toys live happily in his ...   21.946943   \n",
       "1  When siblings Judy and Peter discover an encha...   17.015539   \n",
       "2  A family wedding reignites the ancient feud be...   11.712900   \n",
       "3  Cheated on, mistreated and stepped on, the wom...    3.859495   \n",
       "4  Just when George Banks has recovered from his ...    8.387519   \n",
       "\n",
       "                                production_companies  \\\n",
       "0                          [Pixar Animation Studios]   \n",
       "1  [TriStar Pictures, Teitler Film, Interscope Co...   \n",
       "2                     [Warner Bros., Lancaster Gate]   \n",
       "3           [Twentieth Century Fox Film Corporation]   \n",
       "4       [Sandollar Productions, Touchstone Pictures]   \n",
       "\n",
       "         production_countries release_date      revenue  runtime  \\\n",
       "0  [United States of America]   1995-10-30  373554033.0     81.0   \n",
       "1  [United States of America]   1995-12-15  262797249.0    104.0   \n",
       "2  [United States of America]   1995-12-22          0.0    101.0   \n",
       "3  [United States of America]   1995-12-22   81452156.0    127.0   \n",
       "4  [United States of America]   1995-02-10   76578911.0    106.0   \n",
       "\n",
       "      spoken_languages    status  \\\n",
       "0            [English]  Released   \n",
       "1  [English, Français]  Released   \n",
       "2            [English]  Released   \n",
       "3            [English]  Released   \n",
       "4            [English]  Released   \n",
       "\n",
       "                                             tagline  \\\n",
       "0                                               None   \n",
       "1          Roll the dice and unleash the excitement!   \n",
       "2  Still Yelling. Still Fighting. Still Ready for...   \n",
       "3  Friends are the people who let you be yourself...   \n",
       "4  Just When His World Is Back To Normal... He's ...   \n",
       "\n",
       "                         title  vote_average  vote_count  release_year  \\\n",
       "0                    Toy Story           7.7      5415.0        1995.0   \n",
       "1                      Jumanji           6.9      2413.0        1995.0   \n",
       "2             Grumpier Old Men           6.5        92.0        1995.0   \n",
       "3            Waiting to Exhale           6.1        34.0        1995.0   \n",
       "4  Father of the Bride Part II           5.7       173.0        1995.0   \n",
       "\n",
       "      return  \n",
       "0  12.451801  \n",
       "1   4.043035  \n",
       "2   0.000000  \n",
       "3   5.090760  \n",
       "4        inf  "
      ]
     },
     "execution_count": 35,
     "metadata": {},
     "output_type": "execute_result"
    }
   ],
   "source": [
    "df_peliculas.head()"
   ]
  },
  {
   "cell_type": "code",
   "execution_count": 36,
   "metadata": {},
   "outputs": [
    {
     "name": "stdout",
     "output_type": "stream",
     "text": [
      "<class 'pandas.core.frame.DataFrame'>\n",
      "Index: 45433 entries, 0 to 45465\n",
      "Data columns (total 20 columns):\n",
      " #   Column                 Non-Null Count  Dtype  \n",
      "---  ------                 --------------  -----  \n",
      " 0   belongs_to_collection  45433 non-null  object \n",
      " 1   budget                 45433 non-null  int64  \n",
      " 2   genres                 45433 non-null  object \n",
      " 3   id                     45433 non-null  float64\n",
      " 4   original_language      45422 non-null  object \n",
      " 5   overview               44479 non-null  object \n",
      " 6   popularity             45433 non-null  float64\n",
      " 7   production_companies   45433 non-null  object \n",
      " 8   production_countries   45433 non-null  object \n",
      " 9   release_date           45346 non-null  object \n",
      " 10  revenue                45430 non-null  float64\n",
      " 11  runtime                45173 non-null  float64\n",
      " 12  spoken_languages       45433 non-null  object \n",
      " 13  status                 45349 non-null  object \n",
      " 14  tagline                20401 non-null  object \n",
      " 15  title                  45430 non-null  object \n",
      " 16  vote_average           45430 non-null  float64\n",
      " 17  vote_count             45430 non-null  float64\n",
      " 18  release_year           45346 non-null  float64\n",
      " 19  return                 45433 non-null  float64\n",
      "dtypes: float64(8), int64(1), object(11)\n",
      "memory usage: 7.3+ MB\n",
      "None\n"
     ]
    }
   ],
   "source": [
    "print(df_peliculas.info())"
   ]
  },
  {
   "cell_type": "code",
   "execution_count": 37,
   "metadata": {},
   "outputs": [
    {
     "name": "stdout",
     "output_type": "stream",
     "text": [
      "belongs_to_collection        0\n",
      "budget                       0\n",
      "genres                       0\n",
      "id                           0\n",
      "original_language           11\n",
      "overview                   954\n",
      "popularity                   0\n",
      "production_companies         0\n",
      "production_countries         0\n",
      "release_date                87\n",
      "revenue                      3\n",
      "runtime                    260\n",
      "spoken_languages             0\n",
      "status                      84\n",
      "tagline                  25032\n",
      "title                        3\n",
      "vote_average                 3\n",
      "vote_count                   3\n",
      "release_year                87\n",
      "return                       0\n",
      "dtype: int64\n"
     ]
    }
   ],
   "source": [
    "#Verifico los valores nulos\n",
    "print(df_peliculas.isnull().sum())"
   ]
  },
  {
   "cell_type": "markdown",
   "metadata": {},
   "source": [
    "Inspecciono los otros dos (reparto y equipo)\n"
   ]
  },
  {
   "cell_type": "code",
   "execution_count": 38,
   "metadata": {},
   "outputs": [
    {
     "data": {
      "text/html": [
       "<div>\n",
       "<style scoped>\n",
       "    .dataframe tbody tr th:only-of-type {\n",
       "        vertical-align: middle;\n",
       "    }\n",
       "\n",
       "    .dataframe tbody tr th {\n",
       "        vertical-align: top;\n",
       "    }\n",
       "\n",
       "    .dataframe thead th {\n",
       "        text-align: right;\n",
       "    }\n",
       "</style>\n",
       "<table border=\"1\" class=\"dataframe\">\n",
       "  <thead>\n",
       "    <tr style=\"text-align: right;\">\n",
       "      <th></th>\n",
       "      <th>id</th>\n",
       "      <th>title</th>\n",
       "      <th>return</th>\n",
       "      <th>release_date</th>\n",
       "      <th>budget</th>\n",
       "      <th>revenue</th>\n",
       "      <th>job</th>\n",
       "      <th>name</th>\n",
       "    </tr>\n",
       "  </thead>\n",
       "  <tbody>\n",
       "    <tr>\n",
       "      <th>0</th>\n",
       "      <td>862.0</td>\n",
       "      <td>Toy Story</td>\n",
       "      <td>12.451801</td>\n",
       "      <td>1995-10-30</td>\n",
       "      <td>30000000</td>\n",
       "      <td>373554033.0</td>\n",
       "      <td>Director</td>\n",
       "      <td>George C. Scott</td>\n",
       "    </tr>\n",
       "    <tr>\n",
       "      <th>1</th>\n",
       "      <td>8844.0</td>\n",
       "      <td>Jumanji</td>\n",
       "      <td>4.043035</td>\n",
       "      <td>1995-12-15</td>\n",
       "      <td>65000000</td>\n",
       "      <td>262797249.0</td>\n",
       "      <td>Director</td>\n",
       "      <td>Lawrence Kasdan</td>\n",
       "    </tr>\n",
       "    <tr>\n",
       "      <th>40</th>\n",
       "      <td>15602.0</td>\n",
       "      <td>Grumpier Old Men</td>\n",
       "      <td>0.000000</td>\n",
       "      <td>1995-12-22</td>\n",
       "      <td>0</td>\n",
       "      <td>0.0</td>\n",
       "      <td>Director</td>\n",
       "      <td>Fernando León de Aranoa</td>\n",
       "    </tr>\n",
       "    <tr>\n",
       "      <th>52</th>\n",
       "      <td>11862.0</td>\n",
       "      <td>Father of the Bride Part II</td>\n",
       "      <td>inf</td>\n",
       "      <td>1995-02-10</td>\n",
       "      <td>0</td>\n",
       "      <td>76578911.0</td>\n",
       "      <td>Executive Producer</td>\n",
       "      <td>Michael Stanley-Evans</td>\n",
       "    </tr>\n",
       "    <tr>\n",
       "      <th>54</th>\n",
       "      <td>949.0</td>\n",
       "      <td>Heat</td>\n",
       "      <td>3.123947</td>\n",
       "      <td>1995-12-15</td>\n",
       "      <td>60000000</td>\n",
       "      <td>187436818.0</td>\n",
       "      <td>Casting</td>\n",
       "      <td>Louis DiGiaimo</td>\n",
       "    </tr>\n",
       "  </tbody>\n",
       "</table>\n",
       "</div>"
      ],
      "text/plain": [
       "         id                        title     return release_date    budget  \\\n",
       "0     862.0                    Toy Story  12.451801   1995-10-30  30000000   \n",
       "1    8844.0                      Jumanji   4.043035   1995-12-15  65000000   \n",
       "40  15602.0             Grumpier Old Men   0.000000   1995-12-22         0   \n",
       "52  11862.0  Father of the Bride Part II        inf   1995-02-10         0   \n",
       "54    949.0                         Heat   3.123947   1995-12-15  60000000   \n",
       "\n",
       "        revenue                 job                     name  \n",
       "0   373554033.0            Director          George C. Scott  \n",
       "1   262797249.0            Director          Lawrence Kasdan  \n",
       "40          0.0            Director  Fernando León de Aranoa  \n",
       "52   76578911.0  Executive Producer    Michael Stanley-Evans  \n",
       "54  187436818.0             Casting           Louis DiGiaimo  "
      ]
     },
     "execution_count": 38,
     "metadata": {},
     "output_type": "execute_result"
    }
   ],
   "source": [
    "df_equipo.head()"
   ]
  },
  {
   "cell_type": "code",
   "execution_count": 39,
   "metadata": {},
   "outputs": [
    {
     "data": {
      "text/html": [
       "<div>\n",
       "<style scoped>\n",
       "    .dataframe tbody tr th:only-of-type {\n",
       "        vertical-align: middle;\n",
       "    }\n",
       "\n",
       "    .dataframe tbody tr th {\n",
       "        vertical-align: top;\n",
       "    }\n",
       "\n",
       "    .dataframe thead th {\n",
       "        text-align: right;\n",
       "    }\n",
       "</style>\n",
       "<table border=\"1\" class=\"dataframe\">\n",
       "  <thead>\n",
       "    <tr style=\"text-align: right;\">\n",
       "      <th></th>\n",
       "      <th>id</th>\n",
       "      <th>title</th>\n",
       "      <th>return</th>\n",
       "      <th>name</th>\n",
       "    </tr>\n",
       "  </thead>\n",
       "  <tbody>\n",
       "    <tr>\n",
       "      <th>0</th>\n",
       "      <td>862.0</td>\n",
       "      <td>Toy Story</td>\n",
       "      <td>12.451801</td>\n",
       "      <td>George C. Scott</td>\n",
       "    </tr>\n",
       "    <tr>\n",
       "      <th>42</th>\n",
       "      <td>8844.0</td>\n",
       "      <td>Jumanji</td>\n",
       "      <td>4.043035</td>\n",
       "      <td>Lawrence Kasdan</td>\n",
       "    </tr>\n",
       "    <tr>\n",
       "      <th>46</th>\n",
       "      <td>11860.0</td>\n",
       "      <td>Sabrina</td>\n",
       "      <td>0.000000</td>\n",
       "      <td>Athol Fugard</td>\n",
       "    </tr>\n",
       "    <tr>\n",
       "      <th>48</th>\n",
       "      <td>9091.0</td>\n",
       "      <td>Sudden Death</td>\n",
       "      <td>1.838576</td>\n",
       "      <td>J. Farrell MacDonald</td>\n",
       "    </tr>\n",
       "    <tr>\n",
       "      <th>101</th>\n",
       "      <td>710.0</td>\n",
       "      <td>GoldenEye</td>\n",
       "      <td>6.072311</td>\n",
       "      <td>An Dorthe Braker</td>\n",
       "    </tr>\n",
       "  </tbody>\n",
       "</table>\n",
       "</div>"
      ],
      "text/plain": [
       "          id         title     return                  name\n",
       "0      862.0     Toy Story  12.451801       George C. Scott\n",
       "42    8844.0       Jumanji   4.043035       Lawrence Kasdan\n",
       "46   11860.0       Sabrina   0.000000          Athol Fugard\n",
       "48    9091.0  Sudden Death   1.838576  J. Farrell MacDonald\n",
       "101    710.0     GoldenEye   6.072311      An Dorthe Braker"
      ]
     },
     "execution_count": 39,
     "metadata": {},
     "output_type": "execute_result"
    }
   ],
   "source": [
    "df_reparto.head()"
   ]
  },
  {
   "cell_type": "markdown",
   "metadata": {},
   "source": [
    "<center>\n",
    "<font size=\"4\">Comienzo con el EDA dentro del df de películas</font>\n",
    "</center>\n"
   ]
  },
  {
   "cell_type": "code",
   "execution_count": 40,
   "metadata": {},
   "outputs": [
    {
     "data": {
      "image/png": "[encoded data removed]",
      "text/plain": [
       "<Figure size 640x480 with 1 Axes>"
      ]
     },
     "metadata": {},
     "output_type": "display_data"
    }
   ],
   "source": [
    "#Distribucion de la duracion de las peliculas\n",
    " \n",
    "plt.hist(df_peliculas['runtime'], bins=25)  # Ajusta el número de bins según tus datos\n",
    "plt.xlabel('Duración (minutos)')\n",
    "plt.ylabel('Número de Películas')\n",
    "plt.title('Distribución de Duración de Películas')\n",
    "plt.show()"
   ]
  },
  {
   "cell_type": "code",
   "execution_count": 41,
   "metadata": {},
   "outputs": [
    {
     "data": {
      "image/png": "[encoded data removed]",
      "text/plain": [
       "<Figure size 1200x600 with 1 Axes>"
      ]
     },
     "metadata": {},
     "output_type": "display_data"
    }
   ],
   "source": [
    "#Conteo de los géneros \n",
    "\n",
    "plt.figure(figsize=(12, 6))\n",
    "sns.countplot(df_peliculas['genres'].explode())\n",
    "plt.xticks(rotation=45)\n",
    "plt.xlabel('Género')\n",
    "plt.ylabel('Número de Películas')\n",
    "plt.title('Conteo de Géneros')\n",
    "plt.show()"
   ]
  },
  {
   "cell_type": "code",
   "execution_count": 42,
   "metadata": {},
   "outputs": [
    {
     "data": {
      "image/png": "[encoded data removed]",
      "text/plain": [
       "<Figure size 1200x600 with 1 Axes>"
      ]
     },
     "metadata": {},
     "output_type": "display_data"
    }
   ],
   "source": [
    "#Conteo de los idiomas originales\n",
    "\n",
    "plt.figure(figsize=(12, 6))\n",
    "sns.countplot(df_peliculas['original_language'])\n",
    "plt.xticks(rotation=45)\n",
    "plt.xlabel('Idioma Original')\n",
    "plt.ylabel('Número de Películas')\n",
    "plt.title('Conteo de Idiomas Originales')\n",
    "plt.show()"
   ]
  },
  {
   "cell_type": "code",
   "execution_count": 43,
   "metadata": {},
   "outputs": [],
   "source": [
    "#Conteo de la frecuencia de cada idioma original\n",
    "conteo_idiomas = df_peliculas['original_language'].value_counts()"
   ]
  },
  {
   "cell_type": "code",
   "execution_count": 44,
   "metadata": {},
   "outputs": [],
   "source": [
    "#Selecciono los idiomas más frecuentes\n",
    "idiomas_frecuentes = conteo_idiomas.head(10).index  # Toma los 10 primeros\n"
   ]
  },
  {
   "cell_type": "code",
   "execution_count": 45,
   "metadata": {},
   "outputs": [],
   "source": [
    "# Filtro el DataFrame original para dejar solo las peliculas incluidas en los idiomas mas frecuentes\n",
    "df_peliculas = df_peliculas[df_peliculas['original_language'].isin(idiomas_frecuentes)]"
   ]
  },
  {
   "cell_type": "code",
   "execution_count": 46,
   "metadata": {},
   "outputs": [],
   "source": [
    "# Creo una máscara booleana para identificar las filas a eliminar\n",
    "mask = ~df_peliculas['original_language'].isin(idiomas_frecuentes)\n",
    "\n",
    "# Elimino las filas que no cumplen la condición\n",
    "df_peliculas.drop(df_peliculas[mask].index, inplace=True)"
   ]
  },
  {
   "cell_type": "code",
   "execution_count": 47,
   "metadata": {},
   "outputs": [
    {
     "name": "stdout",
     "output_type": "stream",
     "text": [
      "La correlación entre duración y presupuesto es: 0.13919385097040246\n"
     ]
    }
   ],
   "source": [
    "# Calculo la correlación entre las columnas 'runtime' y 'budget' directamente\n",
    "correlacion = df_peliculas['runtime'].corr(df_peliculas['budget'])\n",
    "\n",
    "print(\"La correlación entre duración y presupuesto es:\", correlacion)"
   ]
  },
  {
   "cell_type": "code",
   "execution_count": 48,
   "metadata": {},
   "outputs": [],
   "source": [
    "# Convirtiendo la columna 'budget' a float type directamente\n",
    "df_peliculas['budget'] = df_peliculas['budget'].astype(float)"
   ]
  },
  {
   "cell_type": "code",
   "execution_count": 49,
   "metadata": {},
   "outputs": [
    {
     "name": "stdout",
     "output_type": "stream",
     "text": [
      "La correlación entre retorno de inversión y presupuesto es: nan\n"
     ]
    },
    {
     "name": "stderr",
     "output_type": "stream",
     "text": [
      "c:\\Users\\jugas\\AppData\\Local\\Programs\\Python\\Python312\\Lib\\site-packages\\numpy\\lib\\function_base.py:2742: RuntimeWarning: invalid value encountered in subtract\n",
      "  X -= avg[:, None]\n"
     ]
    }
   ],
   "source": [
    "# Calculo la correlación entre las columnas 'return' y 'budget' directamente\n",
    "correlacion = df_peliculas['return'].corr(df_peliculas['budget'])\n",
    "\n",
    "print(\"La correlación entre retorno de inversión y presupuesto es:\", correlacion)"
   ]
  },
  {
   "cell_type": "code",
   "execution_count": 50,
   "metadata": {},
   "outputs": [
    {
     "name": "stdout",
     "output_type": "stream",
     "text": [
      "float64\n",
      "Cantidad de registros con infinito: 1927\n"
     ]
    }
   ],
   "source": [
    "# Verifico el tipo de dato de la columna \"return\"\n",
    "print(df_peliculas['return'].dtype)\n",
    "\n",
    "# Convierto a numérico si es necesario\n",
    "df_peliculas['return'] = pd.to_numeric(df_peliculas['return'], errors='coerce')\n",
    "\n",
    "# Conteo de valores infinitos\n",
    "cantidad_inf = df_peliculas[np.isinf(df_peliculas['return'])].shape[0]\n",
    "print(f\"Cantidad de registros con infinito: {cantidad_inf}\")\n"
   ]
  },
  {
   "cell_type": "code",
   "execution_count": 51,
   "metadata": {},
   "outputs": [],
   "source": [
    "# Elimino filas con valores infinitos\n",
    "df_peliculas = df_peliculas[~np.isinf(df_peliculas['return'])]"
   ]
  },
  {
   "cell_type": "code",
   "execution_count": 52,
   "metadata": {},
   "outputs": [
    {
     "name": "stdout",
     "output_type": "stream",
     "text": [
      "La correlación entre retorno de inversión y presupuesto es: -0.0024161440768920993\n"
     ]
    }
   ],
   "source": [
    "# Calculo la correlación entre las columnas 'return' y 'budget' directamente\n",
    "correlacion = df_peliculas['return'].corr(df_peliculas['budget'])\n",
    "\n",
    "print(\"La correlación entre retorno de inversión y presupuesto es:\", correlacion)"
   ]
  },
  {
   "cell_type": "code",
   "execution_count": 53,
   "metadata": {},
   "outputs": [
    {
     "name": "stdout",
     "output_type": "stream",
     "text": [
      "           belongs_to_collection      budget  \\\n",
      "0           Toy Story Collection  30000000.0   \n",
      "1                 not collection  65000000.0   \n",
      "2      Grumpy Old Men Collection         0.0   \n",
      "3                 not collection  16000000.0   \n",
      "5                 not collection  60000000.0   \n",
      "...                          ...         ...   \n",
      "45459             not collection         0.0   \n",
      "45460             not collection         0.0   \n",
      "45463             not collection         0.0   \n",
      "45464             not collection         0.0   \n",
      "45465             not collection         0.0   \n",
      "\n",
      "                                 genres        id original_language  \\\n",
      "0           [Animation, Comedy, Family]     862.0                en   \n",
      "1          [Adventure, Fantasy, Family]    8844.0                en   \n",
      "2                     [Romance, Comedy]   15602.0                en   \n",
      "3              [Comedy, Drama, Romance]   31357.0                en   \n",
      "5      [Action, Crime, Drama, Thriller]     949.0                en   \n",
      "...                                 ...       ...               ...   \n",
      "45459                 [Science Fiction]  222848.0                en   \n",
      "45460          [Drama, Action, Romance]   30840.0                en   \n",
      "45463         [Action, Drama, Thriller]   67758.0                en   \n",
      "45464                                []  227506.0                en   \n",
      "45465                                []  461257.0                en   \n",
      "\n",
      "                                                overview  popularity  \\\n",
      "0      Led by Woody, Andy's toys live happily in his ...   21.946943   \n",
      "1      When siblings Judy and Peter discover an encha...   17.015539   \n",
      "2      A family wedding reignites the ancient feud be...   11.712900   \n",
      "3      Cheated on, mistreated and stepped on, the wom...    3.859495   \n",
      "5      Obsessive master thief, Neil McCauley leads a ...   17.924927   \n",
      "...                                                  ...         ...   \n",
      "45459  It's the year 3000 AD. The world's most danger...    0.661558   \n",
      "45460  Yet another version of the classic epic, with ...    5.683753   \n",
      "45463  When one of her hits goes wrong, a professiona...    0.903007   \n",
      "45464  In a small town live two brothers, one a minis...    0.003503   \n",
      "45465  50 years after decriminalisation of homosexual...    0.163015   \n",
      "\n",
      "                                    production_companies  \\\n",
      "0                              [Pixar Animation Studios]   \n",
      "1      [TriStar Pictures, Teitler Film, Interscope Co...   \n",
      "2                         [Warner Bros., Lancaster Gate]   \n",
      "3               [Twentieth Century Fox Film Corporation]   \n",
      "5      [Regency Enterprises, Forward Pass, Warner Bros.]   \n",
      "...                                                  ...   \n",
      "45459                            [Concorde-New Horizons]   \n",
      "45460  [Westdeutscher Rundfunk (WDR), Working Title F...   \n",
      "45463                          [American World Pictures]   \n",
      "45464                                        [Yermoliev]   \n",
      "45465                                                 []   \n",
      "\n",
      "                                    production_countries release_date  \\\n",
      "0                             [United States of America]   1995-10-30   \n",
      "1                             [United States of America]   1995-12-15   \n",
      "2                             [United States of America]   1995-12-22   \n",
      "3                             [United States of America]   1995-12-22   \n",
      "5                             [United States of America]   1995-12-15   \n",
      "...                                                  ...          ...   \n",
      "45459                         [United States of America]   1995-01-01   \n",
      "45460  [Canada, Germany, United Kingdom, United State...   1991-05-13   \n",
      "45463                         [United States of America]   2003-08-01   \n",
      "45464                                           [Russia]   1917-10-21   \n",
      "45465                                   [United Kingdom]   2017-06-09   \n",
      "\n",
      "           revenue  runtime     spoken_languages    status  \\\n",
      "0      373554033.0     81.0            [English]  Released   \n",
      "1      262797249.0    104.0  [English, Français]  Released   \n",
      "2              0.0    101.0            [English]  Released   \n",
      "3       81452156.0    127.0            [English]  Released   \n",
      "5      187436818.0    170.0   [English, Español]  Released   \n",
      "...            ...      ...                  ...       ...   \n",
      "45459          0.0     85.0            [English]  Released   \n",
      "45460          0.0    104.0            [English]  Released   \n",
      "45463          0.0     90.0            [English]  Released   \n",
      "45464          0.0     87.0                   []  Released   \n",
      "45465          0.0     75.0            [English]  Released   \n",
      "\n",
      "                                                 tagline              title  \\\n",
      "0                                                   None          Toy Story   \n",
      "1              Roll the dice and unleash the excitement!            Jumanji   \n",
      "2      Still Yelling. Still Fighting. Still Ready for...   Grumpier Old Men   \n",
      "3      Friends are the people who let you be yourself...  Waiting to Exhale   \n",
      "5                               A Los Angeles Crime Saga               Heat   \n",
      "...                                                  ...                ...   \n",
      "45459                                               None    Caged Heat 3000   \n",
      "45460                                               None         Robin Hood   \n",
      "45463                             A deadly game of wits.           Betrayal   \n",
      "45464                                               None   Satan Triumphant   \n",
      "45465                                               None           Queerama   \n",
      "\n",
      "       vote_average  vote_count  release_year     return  \n",
      "0               7.7      5415.0        1995.0  12.451801  \n",
      "1               6.9      2413.0        1995.0   4.043035  \n",
      "2               6.5        92.0        1995.0   0.000000  \n",
      "3               6.1        34.0        1995.0   5.090760  \n",
      "5               7.7      1886.0        1995.0   3.123947  \n",
      "...             ...         ...           ...        ...  \n",
      "45459           3.5         1.0        1995.0   0.000000  \n",
      "45460           5.7        26.0        1991.0   0.000000  \n",
      "45463           3.8         6.0        2003.0   0.000000  \n",
      "45464           0.0         0.0        1917.0   0.000000  \n",
      "45465           0.0         0.0        2017.0   0.000000  \n",
      "\n",
      "[39804 rows x 20 columns]\n"
     ]
    }
   ],
   "source": [
    "# Identifico las películas que tienen un runtime mayor a 330 (porque quiere decir que son miniseries y no quiero que esten en mi análisis)\n",
    "peliculas_a_eliminar = df_peliculas[df_peliculas['runtime'] > 330]['id'].unique()\n",
    "\n",
    "# Filtro el df y lo reescribo\n",
    "df_peliculas.drop(df_peliculas[df_peliculas['id'].isin(peliculas_a_eliminar)].index, inplace=True)\n",
    "\n",
    "\n",
    "print(df_peliculas)"
   ]
  },
  {
   "cell_type": "code",
   "execution_count": 54,
   "metadata": {},
   "outputs": [
    {
     "data": {
      "image/png": "[encoded data removed]",
      "text/plain": [
       "<Figure size 640x480 with 1 Axes>"
      ]
     },
     "metadata": {},
     "output_type": "display_data"
    }
   ],
   "source": [
    "#Armo un gráfico de lineas para ver la distribución de estrenos anuales a lo largo del tiempo\n",
    "df_agrupado = df_peliculas.groupby('release_year')['title'].count().reset_index(name='num_estrenos')\n",
    "\n",
    "# Gráfico de línea\n",
    "sns.lineplot(x='release_year', y='num_estrenos', data=df_agrupado)\n",
    "plt.title('Distribución de Estrenos por Año')\n",
    "plt.xlabel('Año')\n",
    "plt.ylabel('Número de Estrenos')\n",
    "plt.show()"
   ]
  },
  {
   "cell_type": "code",
   "execution_count": 55,
   "metadata": {},
   "outputs": [],
   "source": [
    "# Filtro las películas estrenadas a partir de 1980 \n",
    "df_peliculas = df_peliculas[df_peliculas['release_year'] >= 1980]"
   ]
  },
  {
   "cell_type": "code",
   "execution_count": 56,
   "metadata": {},
   "outputs": [
    {
     "name": "stdout",
     "output_type": "stream",
     "text": [
      "La correlación entre retorno de inversión y presupuesto es: -0.002826234291070623\n"
     ]
    }
   ],
   "source": [
    "# Calculo la correlación entre las columnas 'return' y 'budget' directamente\n",
    "correlacion = df_peliculas['return'].corr(df_peliculas['budget'])\n",
    "\n",
    "print(\"La correlación entre retorno de inversión y presupuesto es:\", correlacion)"
   ]
  },
  {
   "cell_type": "code",
   "execution_count": 57,
   "metadata": {},
   "outputs": [
    {
     "name": "stdout",
     "output_type": "stream",
     "text": [
      "   Action  Adventure  Animation  Comedy  Crime  Documentary  Drama  Family  \\\n",
      "0       0          0          0       1      0            0      1       0   \n",
      "1       1          1          0       0      0            0      0       0   \n",
      "2       0          0          0       0      1            0      0       0   \n",
      "3       0          0          0       0      0            0      0       0   \n",
      "4       0          0          0       0      0            0      0       0   \n",
      "5       0          0          1       0      0            0      0       1   \n",
      "6       0          0          0       0      0            0      0       0   \n",
      "7       0          0          0       0      0            0      0       0   \n",
      "8       0          0          0       0      0            1      0       0   \n",
      "9       0          0          0       0      0            0      0       0   \n",
      "\n",
      "   Fantasy  Foreign  History  Horror  Music  Mystery  Romance  \\\n",
      "0        0        0        0       0      0        0        0   \n",
      "1        0        0        0       0      0        0        0   \n",
      "2        0        0        0       0      0        0        0   \n",
      "3        0        1        0       0      0        0        0   \n",
      "4        0        0        0       0      0        1        0   \n",
      "5        0        0        0       0      0        0        0   \n",
      "6        1        0        0       0      0        0        1   \n",
      "7        0        0        1       1      0        0        0   \n",
      "8        0        0        0       0      1        0        0   \n",
      "9        0        0        0       0      0        0        0   \n",
      "\n",
      "   Science Fiction  TV Movie  Thriller  War  Western  \n",
      "0                0         0         0    0        0  \n",
      "1                0         0         0    0        0  \n",
      "2                0         0         1    0        0  \n",
      "3                0         0         0    1        0  \n",
      "4                1         0         0    0        0  \n",
      "5                0         0         0    0        0  \n",
      "6                0         0         0    0        0  \n",
      "7                0         0         0    0        0  \n",
      "8                0         0         0    0        0  \n",
      "9                0         1         0    0        1  \n"
     ]
    }
   ],
   "source": [
    "df_genres_dummies = pd.DataFrame({'genres': ['Comedy,Drama', 'Action,Adventure','Crime,Thriller', 'War,Foreign','Science Fiction,Mystery', 'Animation,Family', \"Fantasy,Romance\", \"Horror,History\", \"Music,Documentary\", \"Western,TV Movie\"]})\n",
    "df_genres_dummies = df_genres_dummies['genres'].str.get_dummies(sep=',')\n",
    "print(df_genres_dummies)"
   ]
  },
  {
   "cell_type": "code",
   "execution_count": 58,
   "metadata": {},
   "outputs": [
    {
     "name": "stdout",
     "output_type": "stream",
     "text": [
      "return             1.000000\n",
      "Action             0.039072\n",
      "Adventure          0.039072\n",
      "Animation         -0.046728\n",
      "Comedy             0.824062\n",
      "Crime             -0.338360\n",
      "Documentary       -0.166722\n",
      "Drama              0.824062\n",
      "Family            -0.046728\n",
      "Fantasy           -0.338360\n",
      "Foreign            0.136881\n",
      "History           -0.338360\n",
      "Horror            -0.338360\n",
      "Music             -0.166722\n",
      "Mystery                 NaN\n",
      "Romance           -0.338360\n",
      "Science Fiction         NaN\n",
      "TV Movie           0.228513\n",
      "Thriller          -0.338360\n",
      "War                0.136881\n",
      "Western            0.228513\n",
      "Name: return, dtype: float64\n"
     ]
    }
   ],
   "source": [
    "# Concateno temporalmente el df de dummies de géneros y la columna return para calcular la correlación\n",
    "correlation_matrix = pd.concat([df_peliculas['return'], df_genres_dummies], axis=1).corr()\n",
    "\n",
    "# Extraigo la fila correspondiente a 'return'\n",
    "print(correlation_matrix.loc['return'])"
   ]
  },
  {
   "cell_type": "code",
   "execution_count": 59,
   "metadata": {},
   "outputs": [
    {
     "name": "stdout",
     "output_type": "stream",
     "text": [
      "popularity         1.000000\n",
      "Action             0.306897\n",
      "Adventure          0.306897\n",
      "Animation          0.355647\n",
      "Comedy             0.571257\n",
      "Crime              0.022636\n",
      "Documentary       -0.324811\n",
      "Drama              0.571257\n",
      "Family             0.355647\n",
      "Fantasy           -0.247311\n",
      "Foreign           -0.398365\n",
      "History           -0.467966\n",
      "Horror            -0.467966\n",
      "Music             -0.324811\n",
      "Mystery                 NaN\n",
      "Romance           -0.247311\n",
      "Science Fiction         NaN\n",
      "TV Movie           0.182018\n",
      "Thriller           0.022636\n",
      "War               -0.398365\n",
      "Western            0.182018\n",
      "Name: popularity, dtype: float64\n"
     ]
    }
   ],
   "source": [
    "# Concateno temporalmente el df de dummies de géneros y la columna popularity para calcular la correlación\n",
    "correlation_matrix = pd.concat([df_peliculas['popularity'], df_genres_dummies], axis=1).corr()\n",
    "\n",
    "# Extraigo la fila correspondiente a 'return'\n",
    "print(correlation_matrix.loc['popularity'])"
   ]
  },
  {
   "cell_type": "code",
   "execution_count": 60,
   "metadata": {},
   "outputs": [
    {
     "name": "stdout",
     "output_type": "stream",
     "text": [
      "vote_average       1.000000\n",
      "Action             0.175740\n",
      "Adventure          0.175740\n",
      "Animation          0.537261\n",
      "Comedy             0.537261\n",
      "Crime             -0.005021\n",
      "Documentary       -0.456923\n",
      "Drama              0.537261\n",
      "Family             0.537261\n",
      "Fantasy           -0.140592\n",
      "Foreign           -0.185782\n",
      "History           -0.502113\n",
      "Horror            -0.502113\n",
      "Music             -0.456923\n",
      "Mystery                 NaN\n",
      "Romance           -0.140592\n",
      "Science Fiction         NaN\n",
      "TV Movie           0.040169\n",
      "Thriller          -0.005021\n",
      "War               -0.185782\n",
      "Western            0.040169\n",
      "Name: vote_average, dtype: float64\n"
     ]
    }
   ],
   "source": [
    "# Concateno temporalmente el df de dummies de géneros y la columna vote_average para calcular la correlación\n",
    "correlation_matrix = pd.concat([df_peliculas['vote_average'], df_genres_dummies], axis=1).corr()\n",
    "\n",
    "# Extraigo la fila correspondiente a 'return'\n",
    "print(correlation_matrix.loc['vote_average'])"
   ]
  },
  {
   "cell_type": "code",
   "execution_count": 61,
   "metadata": {},
   "outputs": [],
   "source": [
    "#hago una matriz de dummies para los idiomas frecuentes\n",
    "\n",
    "df_idiomas_dummies = pd.get_dummies(idiomas_frecuentes)"
   ]
  },
  {
   "cell_type": "code",
   "execution_count": 62,
   "metadata": {},
   "outputs": [
    {
     "name": "stdout",
     "output_type": "stream",
     "text": [
      "return    1.000000\n",
      "de             NaN\n",
      "en        0.824062\n",
      "es       -0.046728\n",
      "fr        0.039072\n",
      "hi       -0.338360\n",
      "it       -0.338360\n",
      "ja        0.136881\n",
      "ko       -0.166722\n",
      "ru       -0.338360\n",
      "zh        0.228513\n",
      "Name: return, dtype: float64\n"
     ]
    }
   ],
   "source": [
    "# Concateno temporalmente el df de dummies de idiomas frecuentes y la columna return para calcular la correlación\n",
    "correlation_matrix3 = pd.concat([df_peliculas['return'], df_idiomas_dummies], axis=1).corr()\n",
    "\n",
    "# Extraigo la fila correspondiente a return\n",
    "print(correlation_matrix3.loc['return'])"
   ]
  },
  {
   "cell_type": "code",
   "execution_count": 63,
   "metadata": {},
   "outputs": [
    {
     "name": "stdout",
     "output_type": "stream",
     "text": [
      "popularity    1.000000\n",
      "de                 NaN\n",
      "en            0.571257\n",
      "es            0.355647\n",
      "fr            0.306897\n",
      "hi           -0.467966\n",
      "it            0.022636\n",
      "ja           -0.398365\n",
      "ko           -0.324811\n",
      "ru           -0.247311\n",
      "zh            0.182018\n",
      "Name: popularity, dtype: float64\n"
     ]
    }
   ],
   "source": [
    "# Concateno temporalmente el df de dummies de idiomas frecuentes y la columna popularity para calcular la correlación\n",
    "correlation_matrix3 = pd.concat([df_peliculas['popularity'], df_idiomas_dummies], axis=1).corr()\n",
    "\n",
    "# Extraigo la fila correspondiente a return\n",
    "print(correlation_matrix3.loc['popularity'])"
   ]
  },
  {
   "cell_type": "code",
   "execution_count": 64,
   "metadata": {},
   "outputs": [
    {
     "data": {
      "image/png": "[encoded data removed]",
      "text/plain": [
       "<Figure size 640x480 with 1 Axes>"
      ]
     },
     "metadata": {},
     "output_type": "display_data"
    }
   ],
   "source": [
    "# Armo un grafico que me ayude a ver la relacion entre los idiomas frecuentes y la popularidad, controlando otras variables al mismo tiempo\n",
    "sns.scatterplot(data=df_peliculas, x=\"popularity\", y=\"original_language\", hue=\"return\", size=\"budget\")\n",
    "plt.show()"
   ]
  },
  {
   "cell_type": "code",
   "execution_count": 65,
   "metadata": {},
   "outputs": [
    {
     "data": {
      "text/html": [
       "<div>\n",
       "<style scoped>\n",
       "    .dataframe tbody tr th:only-of-type {\n",
       "        vertical-align: middle;\n",
       "    }\n",
       "\n",
       "    .dataframe tbody tr th {\n",
       "        vertical-align: top;\n",
       "    }\n",
       "\n",
       "    .dataframe thead th {\n",
       "        text-align: right;\n",
       "    }\n",
       "</style>\n",
       "<table border=\"1\" class=\"dataframe\">\n",
       "  <thead>\n",
       "    <tr style=\"text-align: right;\">\n",
       "      <th></th>\n",
       "      <th>id</th>\n",
       "      <th>title</th>\n",
       "      <th>return</th>\n",
       "      <th>name</th>\n",
       "    </tr>\n",
       "  </thead>\n",
       "  <tbody>\n",
       "    <tr>\n",
       "      <th>0</th>\n",
       "      <td>862.0</td>\n",
       "      <td>Toy Story</td>\n",
       "      <td>12.451801</td>\n",
       "      <td>George C. Scott</td>\n",
       "    </tr>\n",
       "    <tr>\n",
       "      <th>42</th>\n",
       "      <td>8844.0</td>\n",
       "      <td>Jumanji</td>\n",
       "      <td>4.043035</td>\n",
       "      <td>Lawrence Kasdan</td>\n",
       "    </tr>\n",
       "    <tr>\n",
       "      <th>46</th>\n",
       "      <td>11860.0</td>\n",
       "      <td>Sabrina</td>\n",
       "      <td>0.000000</td>\n",
       "      <td>Athol Fugard</td>\n",
       "    </tr>\n",
       "    <tr>\n",
       "      <th>48</th>\n",
       "      <td>9091.0</td>\n",
       "      <td>Sudden Death</td>\n",
       "      <td>1.838576</td>\n",
       "      <td>J. Farrell MacDonald</td>\n",
       "    </tr>\n",
       "    <tr>\n",
       "      <th>101</th>\n",
       "      <td>710.0</td>\n",
       "      <td>GoldenEye</td>\n",
       "      <td>6.072311</td>\n",
       "      <td>An Dorthe Braker</td>\n",
       "    </tr>\n",
       "  </tbody>\n",
       "</table>\n",
       "</div>"
      ],
      "text/plain": [
       "          id         title     return                  name\n",
       "0      862.0     Toy Story  12.451801       George C. Scott\n",
       "42    8844.0       Jumanji   4.043035       Lawrence Kasdan\n",
       "46   11860.0       Sabrina   0.000000          Athol Fugard\n",
       "48    9091.0  Sudden Death   1.838576  J. Farrell MacDonald\n",
       "101    710.0     GoldenEye   6.072311      An Dorthe Braker"
      ]
     },
     "execution_count": 65,
     "metadata": {},
     "output_type": "execute_result"
    }
   ],
   "source": [
    "df_reparto.head()"
   ]
  }
 ],
 "metadata": {
  "kernelspec": {
   "display_name": "Python 3",
   "language": "python",
   "name": "python3"
  },
  "language_info": {
   "codemirror_mode": {
    "name": "ipython",
    "version": 3
   },
   "file_extension": ".py",
   "mimetype": "text/x-python",
   "name": "python",
   "nbconvert_exporter": "python",
   "pygments_lexer": "ipython3",
   "version": "3.12.2"
  }
 },
 "nbformat": 4,
 "nbformat_minor": 2
}
