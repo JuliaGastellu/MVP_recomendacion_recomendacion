{
 "cells": [
  {
   "cell_type": "code",
   "execution_count": 141,
   "metadata": {},
   "outputs": [
    {
     "name": "stderr",
     "output_type": "stream",
     "text": [
      "[nltk_data] Downloading package punkt to\n",
      "[nltk_data]     C:\\Users\\jugas\\AppData\\Roaming\\nltk_data...\n",
      "[nltk_data]   Package punkt is already up-to-date!\n",
      "[nltk_data] Downloading package stopwords to\n",
      "[nltk_data]     C:\\Users\\jugas\\AppData\\Roaming\\nltk_data...\n",
      "[nltk_data]   Package stopwords is already up-to-date!\n"
     ]
    }
   ],
   "source": [
    "#Importo librerías\n",
    "import numpy as np\n",
    "import pandas as pd\n",
    "import seaborn as sns\n",
    "import matplotlib.pyplot as plt\n",
    "import warnings\n",
    "from wordcloud import WordCloud, STOPWORDS\n",
    "from sklearn.feature_extraction.text import TfidfVectorizer\n",
    "from sklearn.metrics.pairwise import cosine_similarity\n",
    "import nltk\n",
    "nltk.download('punkt')\n",
    "nltk.download('stopwords')\n",
    "from nltk.corpus import stopwords\n",
    "from nltk.tokenize import word_tokenize"
   ]
  },
  {
   "cell_type": "code",
   "execution_count": 142,
   "metadata": {},
   "outputs": [],
   "source": [
    "df_modelo = pd.read_parquet(\"C:/Users/jugas/Proyecto/Proyecto/data/df_modelo.parquet\")"
   ]
  },
  {
   "cell_type": "code",
   "execution_count": 143,
   "metadata": {},
   "outputs": [
    {
     "data": {
      "text/html": [
       "<div>\n",
       "<style scoped>\n",
       "    .dataframe tbody tr th:only-of-type {\n",
       "        vertical-align: middle;\n",
       "    }\n",
       "\n",
       "    .dataframe tbody tr th {\n",
       "        vertical-align: top;\n",
       "    }\n",
       "\n",
       "    .dataframe thead th {\n",
       "        text-align: right;\n",
       "    }\n",
       "</style>\n",
       "<table border=\"1\" class=\"dataframe\">\n",
       "  <thead>\n",
       "    <tr style=\"text-align: right;\">\n",
       "      <th></th>\n",
       "      <th>genres</th>\n",
       "      <th>id</th>\n",
       "      <th>original_language</th>\n",
       "      <th>overview</th>\n",
       "      <th>popularity</th>\n",
       "      <th>title</th>\n",
       "      <th>vote_average</th>\n",
       "      <th>release_year</th>\n",
       "      <th>return</th>\n",
       "    </tr>\n",
       "  </thead>\n",
       "  <tbody>\n",
       "    <tr>\n",
       "      <th>4</th>\n",
       "      <td>[Crime, Comedy]</td>\n",
       "      <td>5.0</td>\n",
       "      <td>en</td>\n",
       "      <td>It's Ted the Bellhop's first night on the job....</td>\n",
       "      <td>9.026586</td>\n",
       "      <td>Four Rooms</td>\n",
       "      <td>6.5</td>\n",
       "      <td>1995.0</td>\n",
       "      <td>1.075000</td>\n",
       "    </tr>\n",
       "    <tr>\n",
       "      <th>11</th>\n",
       "      <td>[Animation, Family]</td>\n",
       "      <td>12.0</td>\n",
       "      <td>en</td>\n",
       "      <td>Nemo, an adventurous young clownfish, is unexp...</td>\n",
       "      <td>25.497794</td>\n",
       "      <td>Finding Nemo</td>\n",
       "      <td>7.6</td>\n",
       "      <td>2003.0</td>\n",
       "      <td>10.003570</td>\n",
       "    </tr>\n",
       "    <tr>\n",
       "      <th>12</th>\n",
       "      <td>[Comedy, Drama, Romance]</td>\n",
       "      <td>13.0</td>\n",
       "      <td>en</td>\n",
       "      <td>A man with a low IQ has accomplished great thi...</td>\n",
       "      <td>48.307194</td>\n",
       "      <td>Forrest Gump</td>\n",
       "      <td>8.2</td>\n",
       "      <td>1994.0</td>\n",
       "      <td>12.326280</td>\n",
       "    </tr>\n",
       "    <tr>\n",
       "      <th>13</th>\n",
       "      <td>[Drama]</td>\n",
       "      <td>14.0</td>\n",
       "      <td>en</td>\n",
       "      <td>Lester Burnham, a depressed suburban father in...</td>\n",
       "      <td>20.726578</td>\n",
       "      <td>American Beauty</td>\n",
       "      <td>7.9</td>\n",
       "      <td>1999.0</td>\n",
       "      <td>23.753107</td>\n",
       "    </tr>\n",
       "    <tr>\n",
       "      <th>15</th>\n",
       "      <td>[Drama, Crime, Music]</td>\n",
       "      <td>16.0</td>\n",
       "      <td>en</td>\n",
       "      <td>Selma, a Czech immigrant on the verge of blind...</td>\n",
       "      <td>10.684806</td>\n",
       "      <td>Dancer in the Dark</td>\n",
       "      <td>7.7</td>\n",
       "      <td>2000.0</td>\n",
       "      <td>3.127491</td>\n",
       "    </tr>\n",
       "  </tbody>\n",
       "</table>\n",
       "</div>"
      ],
      "text/plain": [
       "                      genres    id original_language  \\\n",
       "4            [Crime, Comedy]   5.0                en   \n",
       "11       [Animation, Family]  12.0                en   \n",
       "12  [Comedy, Drama, Romance]  13.0                en   \n",
       "13                   [Drama]  14.0                en   \n",
       "15     [Drama, Crime, Music]  16.0                en   \n",
       "\n",
       "                                             overview  popularity  \\\n",
       "4   It's Ted the Bellhop's first night on the job....    9.026586   \n",
       "11  Nemo, an adventurous young clownfish, is unexp...   25.497794   \n",
       "12  A man with a low IQ has accomplished great thi...   48.307194   \n",
       "13  Lester Burnham, a depressed suburban father in...   20.726578   \n",
       "15  Selma, a Czech immigrant on the verge of blind...   10.684806   \n",
       "\n",
       "                 title  vote_average  release_year     return  \n",
       "4           Four Rooms           6.5        1995.0   1.075000  \n",
       "11        Finding Nemo           7.6        2003.0  10.003570  \n",
       "12        Forrest Gump           8.2        1994.0  12.326280  \n",
       "13     American Beauty           7.9        1999.0  23.753107  \n",
       "15  Dancer in the Dark           7.7        2000.0   3.127491  "
      ]
     },
     "execution_count": 143,
     "metadata": {},
     "output_type": "execute_result"
    }
   ],
   "source": [
    "df_modelo.head()"
   ]
  },
  {
   "cell_type": "code",
   "execution_count": 144,
   "metadata": {},
   "outputs": [],
   "source": [
    "df_modelo['genres'] = df_modelo['genres'].astype(str)  # Convierto a str"
   ]
  },
  {
   "cell_type": "code",
   "execution_count": 145,
   "metadata": {},
   "outputs": [],
   "source": [
    "##Se separan los géneros y se convierten en palabras individuales\n",
    "df_modelo['genres'] = df_modelo['genres'].fillna('').apply(lambda x: ' '.join(x.replace(',', ' ').replace('-', '').lower().split()))\n",
    "     "
   ]
  },
  {
   "cell_type": "code",
   "execution_count": 146,
   "metadata": {},
   "outputs": [
    {
     "data": {
      "text/plain": [
       "(26256, 9)"
      ]
     },
     "execution_count": 146,
     "metadata": {},
     "output_type": "execute_result"
    }
   ],
   "source": [
    "df_modelo.shape"
   ]
  },
  {
   "cell_type": "code",
   "execution_count": 147,
   "metadata": {},
   "outputs": [
    {
     "data": {
      "text/plain": [
       "genres                 0\n",
       "id                     0\n",
       "original_language      0\n",
       "overview             146\n",
       "popularity             0\n",
       "title                  0\n",
       "vote_average           0\n",
       "release_year           0\n",
       "return                 0\n",
       "dtype: int64"
      ]
     },
     "execution_count": 147,
     "metadata": {},
     "output_type": "execute_result"
    }
   ],
   "source": [
    "#Hago un conteo de los NaN\n",
    "df_modelo.isna().sum()"
   ]
  },
  {
   "cell_type": "code",
   "execution_count": 148,
   "metadata": {},
   "outputs": [],
   "source": [
    "#Elimino los NaN\n",
    "df_modelo = df_modelo.dropna()"
   ]
  },
  {
   "cell_type": "code",
   "execution_count": 149,
   "metadata": {},
   "outputs": [],
   "source": [
    "#Dejo solo los registros con id distinto de 0\n",
    "df_modelo = df_modelo[df_modelo['id']!=0]"
   ]
  },
  {
   "cell_type": "code",
   "execution_count": 150,
   "metadata": {},
   "outputs": [],
   "source": [
    "#Reseteo el indice \n",
    "df_modelo.reset_index(drop=True, inplace=True)"
   ]
  },
  {
   "cell_type": "code",
   "execution_count": 151,
   "metadata": {},
   "outputs": [
    {
     "data": {
      "text/html": [
       "<div>\n",
       "<style scoped>\n",
       "    .dataframe tbody tr th:only-of-type {\n",
       "        vertical-align: middle;\n",
       "    }\n",
       "\n",
       "    .dataframe tbody tr th {\n",
       "        vertical-align: top;\n",
       "    }\n",
       "\n",
       "    .dataframe thead th {\n",
       "        text-align: right;\n",
       "    }\n",
       "</style>\n",
       "<table border=\"1\" class=\"dataframe\">\n",
       "  <thead>\n",
       "    <tr style=\"text-align: right;\">\n",
       "      <th></th>\n",
       "      <th>genres</th>\n",
       "      <th>id</th>\n",
       "      <th>original_language</th>\n",
       "      <th>overview</th>\n",
       "      <th>popularity</th>\n",
       "      <th>title</th>\n",
       "      <th>vote_average</th>\n",
       "      <th>release_year</th>\n",
       "      <th>return</th>\n",
       "    </tr>\n",
       "  </thead>\n",
       "  <tbody>\n",
       "    <tr>\n",
       "      <th>0</th>\n",
       "      <td>['crime' 'comedy']</td>\n",
       "      <td>5.0</td>\n",
       "      <td>en</td>\n",
       "      <td>It's Ted the Bellhop's first night on the job....</td>\n",
       "      <td>9.026586</td>\n",
       "      <td>Four Rooms</td>\n",
       "      <td>6.5</td>\n",
       "      <td>1995.0</td>\n",
       "      <td>1.075000</td>\n",
       "    </tr>\n",
       "    <tr>\n",
       "      <th>1</th>\n",
       "      <td>['animation' 'family']</td>\n",
       "      <td>12.0</td>\n",
       "      <td>en</td>\n",
       "      <td>Nemo, an adventurous young clownfish, is unexp...</td>\n",
       "      <td>25.497794</td>\n",
       "      <td>Finding Nemo</td>\n",
       "      <td>7.6</td>\n",
       "      <td>2003.0</td>\n",
       "      <td>10.003570</td>\n",
       "    </tr>\n",
       "    <tr>\n",
       "      <th>2</th>\n",
       "      <td>['comedy' 'drama' 'romance']</td>\n",
       "      <td>13.0</td>\n",
       "      <td>en</td>\n",
       "      <td>A man with a low IQ has accomplished great thi...</td>\n",
       "      <td>48.307194</td>\n",
       "      <td>Forrest Gump</td>\n",
       "      <td>8.2</td>\n",
       "      <td>1994.0</td>\n",
       "      <td>12.326280</td>\n",
       "    </tr>\n",
       "    <tr>\n",
       "      <th>3</th>\n",
       "      <td>['drama']</td>\n",
       "      <td>14.0</td>\n",
       "      <td>en</td>\n",
       "      <td>Lester Burnham, a depressed suburban father in...</td>\n",
       "      <td>20.726578</td>\n",
       "      <td>American Beauty</td>\n",
       "      <td>7.9</td>\n",
       "      <td>1999.0</td>\n",
       "      <td>23.753107</td>\n",
       "    </tr>\n",
       "    <tr>\n",
       "      <th>4</th>\n",
       "      <td>['drama' 'crime' 'music']</td>\n",
       "      <td>16.0</td>\n",
       "      <td>en</td>\n",
       "      <td>Selma, a Czech immigrant on the verge of blind...</td>\n",
       "      <td>10.684806</td>\n",
       "      <td>Dancer in the Dark</td>\n",
       "      <td>7.7</td>\n",
       "      <td>2000.0</td>\n",
       "      <td>3.127491</td>\n",
       "    </tr>\n",
       "  </tbody>\n",
       "</table>\n",
       "</div>"
      ],
      "text/plain": [
       "                         genres    id original_language  \\\n",
       "0            ['crime' 'comedy']   5.0                en   \n",
       "1        ['animation' 'family']  12.0                en   \n",
       "2  ['comedy' 'drama' 'romance']  13.0                en   \n",
       "3                     ['drama']  14.0                en   \n",
       "4     ['drama' 'crime' 'music']  16.0                en   \n",
       "\n",
       "                                            overview  popularity  \\\n",
       "0  It's Ted the Bellhop's first night on the job....    9.026586   \n",
       "1  Nemo, an adventurous young clownfish, is unexp...   25.497794   \n",
       "2  A man with a low IQ has accomplished great thi...   48.307194   \n",
       "3  Lester Burnham, a depressed suburban father in...   20.726578   \n",
       "4  Selma, a Czech immigrant on the verge of blind...   10.684806   \n",
       "\n",
       "                title  vote_average  release_year     return  \n",
       "0          Four Rooms           6.5        1995.0   1.075000  \n",
       "1        Finding Nemo           7.6        2003.0  10.003570  \n",
       "2        Forrest Gump           8.2        1994.0  12.326280  \n",
       "3     American Beauty           7.9        1999.0  23.753107  \n",
       "4  Dancer in the Dark           7.7        2000.0   3.127491  "
      ]
     },
     "execution_count": 151,
     "metadata": {},
     "output_type": "execute_result"
    }
   ],
   "source": [
    "df_modelo.head()"
   ]
  },
  {
   "cell_type": "code",
   "execution_count": 152,
   "metadata": {},
   "outputs": [],
   "source": [
    "#Cambio el tipo de dato de la columna id a int\n",
    "df_modelo['id'] = df_modelo['id'].astype(int)"
   ]
  },
  {
   "cell_type": "code",
   "execution_count": 153,
   "metadata": {},
   "outputs": [
    {
     "data": {
      "text/plain": [
       "title\n",
       "Home                              6\n",
       "Captive                           5\n",
       "Cinderella                        5\n",
       "A Christmas Carol                 5\n",
       "Beauty and the Beast              5\n",
       "                                 ..\n",
       "Space Mutiny                      1\n",
       "Starchaser: The Legend of Orin    1\n",
       "Body Parts                        1\n",
       "Soccer Dog: The Movie             1\n",
       "The Truth Is in the Stars         1\n",
       "Name: count, Length: 24978, dtype: int64"
      ]
     },
     "execution_count": 153,
     "metadata": {},
     "output_type": "execute_result"
    }
   ],
   "source": [
    "df_modelo['title'].value_counts()"
   ]
  },
  {
   "cell_type": "code",
   "execution_count": 154,
   "metadata": {},
   "outputs": [],
   "source": [
    "# Creo una instancia de la clase TfidfVectorizer\n",
    "\n",
    "Vectorizacion = TfidfVectorizer(stop_words=\"english\", ngram_range=(1, 2))\n",
    "\n",
    "# Aplico la transformación TF-IDF al texto contenido en las columnas \"overview\", \"genres\" y \"title\" y \"original_language\"\n",
    "matriz_vectorizada = Vectorizacion.fit_transform(df_modelo['overview'] + ' ' + df_modelo['genres'] + ' ' + df_modelo['title'] + ' ' + df_modelo['original_language'])\n",
    "     "
   ]
  },
  {
   "cell_type": "code",
   "execution_count": 155,
   "metadata": {},
   "outputs": [
    {
     "data": {
      "text/html": [
       "<div>\n",
       "<style scoped>\n",
       "    .dataframe tbody tr th:only-of-type {\n",
       "        vertical-align: middle;\n",
       "    }\n",
       "\n",
       "    .dataframe tbody tr th {\n",
       "        vertical-align: top;\n",
       "    }\n",
       "\n",
       "    .dataframe thead th {\n",
       "        text-align: right;\n",
       "    }\n",
       "</style>\n",
       "<table border=\"1\" class=\"dataframe\">\n",
       "  <thead>\n",
       "    <tr style=\"text-align: right;\">\n",
       "      <th></th>\n",
       "      <th>genres</th>\n",
       "      <th>id</th>\n",
       "      <th>original_language</th>\n",
       "      <th>overview</th>\n",
       "      <th>popularity</th>\n",
       "      <th>title</th>\n",
       "      <th>vote_average</th>\n",
       "      <th>release_year</th>\n",
       "      <th>return</th>\n",
       "    </tr>\n",
       "  </thead>\n",
       "  <tbody>\n",
       "    <tr>\n",
       "      <th>0</th>\n",
       "      <td>['crime' 'comedy']</td>\n",
       "      <td>5</td>\n",
       "      <td>en</td>\n",
       "      <td>It's Ted the Bellhop's first night on the job....</td>\n",
       "      <td>9.026586</td>\n",
       "      <td>Four Rooms</td>\n",
       "      <td>6.5</td>\n",
       "      <td>1995.0</td>\n",
       "      <td>1.075000</td>\n",
       "    </tr>\n",
       "    <tr>\n",
       "      <th>1</th>\n",
       "      <td>['animation' 'family']</td>\n",
       "      <td>12</td>\n",
       "      <td>en</td>\n",
       "      <td>Nemo, an adventurous young clownfish, is unexp...</td>\n",
       "      <td>25.497794</td>\n",
       "      <td>Finding Nemo</td>\n",
       "      <td>7.6</td>\n",
       "      <td>2003.0</td>\n",
       "      <td>10.003570</td>\n",
       "    </tr>\n",
       "    <tr>\n",
       "      <th>2</th>\n",
       "      <td>['comedy' 'drama' 'romance']</td>\n",
       "      <td>13</td>\n",
       "      <td>en</td>\n",
       "      <td>A man with a low IQ has accomplished great thi...</td>\n",
       "      <td>48.307194</td>\n",
       "      <td>Forrest Gump</td>\n",
       "      <td>8.2</td>\n",
       "      <td>1994.0</td>\n",
       "      <td>12.326280</td>\n",
       "    </tr>\n",
       "    <tr>\n",
       "      <th>3</th>\n",
       "      <td>['drama']</td>\n",
       "      <td>14</td>\n",
       "      <td>en</td>\n",
       "      <td>Lester Burnham, a depressed suburban father in...</td>\n",
       "      <td>20.726578</td>\n",
       "      <td>American Beauty</td>\n",
       "      <td>7.9</td>\n",
       "      <td>1999.0</td>\n",
       "      <td>23.753107</td>\n",
       "    </tr>\n",
       "    <tr>\n",
       "      <th>4</th>\n",
       "      <td>['drama' 'crime' 'music']</td>\n",
       "      <td>16</td>\n",
       "      <td>en</td>\n",
       "      <td>Selma, a Czech immigrant on the verge of blind...</td>\n",
       "      <td>10.684806</td>\n",
       "      <td>Dancer in the Dark</td>\n",
       "      <td>7.7</td>\n",
       "      <td>2000.0</td>\n",
       "      <td>3.127491</td>\n",
       "    </tr>\n",
       "  </tbody>\n",
       "</table>\n",
       "</div>"
      ],
      "text/plain": [
       "                         genres  id original_language  \\\n",
       "0            ['crime' 'comedy']   5                en   \n",
       "1        ['animation' 'family']  12                en   \n",
       "2  ['comedy' 'drama' 'romance']  13                en   \n",
       "3                     ['drama']  14                en   \n",
       "4     ['drama' 'crime' 'music']  16                en   \n",
       "\n",
       "                                            overview  popularity  \\\n",
       "0  It's Ted the Bellhop's first night on the job....    9.026586   \n",
       "1  Nemo, an adventurous young clownfish, is unexp...   25.497794   \n",
       "2  A man with a low IQ has accomplished great thi...   48.307194   \n",
       "3  Lester Burnham, a depressed suburban father in...   20.726578   \n",
       "4  Selma, a Czech immigrant on the verge of blind...   10.684806   \n",
       "\n",
       "                title  vote_average  release_year     return  \n",
       "0          Four Rooms           6.5        1995.0   1.075000  \n",
       "1        Finding Nemo           7.6        2003.0  10.003570  \n",
       "2        Forrest Gump           8.2        1994.0  12.326280  \n",
       "3     American Beauty           7.9        1999.0  23.753107  \n",
       "4  Dancer in the Dark           7.7        2000.0   3.127491  "
      ]
     },
     "execution_count": 155,
     "metadata": {},
     "output_type": "execute_result"
    }
   ],
   "source": [
    "df_modelo.head()"
   ]
  },
  {
   "cell_type": "code",
   "execution_count": 156,
   "metadata": {},
   "outputs": [],
   "source": [
    "def recomendacion(titulo):\n",
    "\n",
    "\n",
    "    # Convertir el título ingresado a minúsculas\n",
    "    titulo = titulo.lower()\n",
    "\n",
    "    # Crear un índice con todos los títulos en minúsculas\n",
    "    indices = pd.Series(df_modelo.index, index=df_modelo['title'].str.lower()).drop_duplicates()\n",
    "\n",
    "    # Resto del código sin cambios\n",
    "    if titulo not in indices:\n",
    "        return 'La película ingresada no se encuentra en la base de datos'\n",
    "\n",
    "    # ... (resto de la función)\n",
    "\n",
    "    # Obtiene el índice de la primera aparición del título\n",
    "    ind = indices[titulo]\n",
    "\n",
    "    # Calcula la similitud coseno\n",
    "    cosine_sim = cosine_similarity(matriz_vectorizada[ind], matriz_vectorizada).flatten()\n",
    "\n",
    "    # Obtiene los índices de las películas más similares\n",
    "    simil = sorted(enumerate(cosine_sim), key=lambda x: x[1], reverse=True)[1:6]\n",
    "    valid_ind = [i[0] for i in simil if i[0] < len(df_modelo)]\n",
    "\n",
    "    # Obtiene los títulos de las películas recomendadas\n",
    "    recomendaciones = df_modelo.iloc[valid_ind]['title'].tolist()\n",
    "\n",
    "    return recomendaciones"
   ]
  },
  {
   "cell_type": "code",
   "execution_count": 157,
   "metadata": {},
   "outputs": [
    {
     "data": {
      "text/plain": [
       "['Certified Copy',\n",
       " 'Stalingrad',\n",
       " 'Henry V',\n",
       " 'Johnny Mad Dog',\n",
       " 'We Were Soldiers']"
      ]
     },
     "execution_count": 157,
     "metadata": {},
     "output_type": "execute_result"
    }
   ],
   "source": [
    "recomendacion(\"braveheart\")"
   ]
  },
  {
   "cell_type": "code",
   "execution_count": 158,
   "metadata": {},
   "outputs": [],
   "source": [
    "df_modelo.to_parquet(\"C:/Users/jugas/Proyecto/Proyecto/data/modelo_consulta.parquet\")"
   ]
  }
 ],
 "metadata": {
  "kernelspec": {
   "display_name": "proyecto",
   "language": "python",
   "name": "python3"
  },
  "language_info": {
   "codemirror_mode": {
    "name": "ipython",
    "version": 3
   },
   "file_extension": ".py",
   "mimetype": "text/x-python",
   "name": "python",
   "nbconvert_exporter": "python",
   "pygments_lexer": "ipython3",
   "version": "3.12.2"
  }
 },
 "nbformat": 4,
 "nbformat_minor": 2
}
